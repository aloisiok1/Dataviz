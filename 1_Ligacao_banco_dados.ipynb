{
 "cells": [
  {
   "cell_type": "code",
   "execution_count": 1,
   "metadata": {},
   "outputs": [
    {
     "name": "stdout",
     "output_type": "stream",
     "text": [
      "Requirement already satisfied: pandas in c:\\users\\usuario\\anaconda3\\lib\\site-packages (1.5.3)\n",
      "Requirement already satisfied: python-dateutil>=2.8.1 in c:\\users\\usuario\\anaconda3\\lib\\site-packages (from pandas) (2.8.2)\n",
      "Requirement already satisfied: numpy>=1.21.0 in c:\\users\\usuario\\anaconda3\\lib\\site-packages (from pandas) (1.23.5)\n",
      "Requirement already satisfied: pytz>=2020.1 in c:\\users\\usuario\\anaconda3\\lib\\site-packages (from pandas) (2022.7)\n",
      "Requirement already satisfied: six>=1.5 in c:\\users\\usuario\\anaconda3\\lib\\site-packages (from python-dateutil>=2.8.1->pandas) (1.16.0)\n",
      "Note: you may need to restart the kernel to use updated packages.\n"
     ]
    }
   ],
   "source": [
    "pip install pandas"
   ]
  },
  {
   "cell_type": "markdown",
   "metadata": {},
   "source": [
    "## Análise de Negócios\n",
    "### Preços dos combustíveis ofertados nos postos"
   ]
  },
  {
   "cell_type": "markdown",
   "metadata": {},
   "source": [
    "### Fomos contratados por uma Petroleira para construir uma análise de negócios para entender a dinâmica de preços que está sendo ofertado pelos postos.\n",
    "1 - Teremos que trabalhar com Dados Existentes <br/>\n",
    "link: https://www.gov.br/anp/pt-br/centrais-de-conteudo/dados-abertos/serie-historica-de-precos-de-combustiveis <br/>\n",
    "\n",
    "Como foi uma solicitação do nosso cliente, teremos que avaliar os ultimos 5 anos da base de dados.<br/>\n",
    "\n",
    "Quando abrimos as tabelas nos deparamos que cada semestre possui uma quantidade muito grande de dados, logo juntas 5 anos (10 tabelas) fica difícil!<br/>\n",
    "\n",
    "Como muitas das vezes não temos o Engenheiro de Dados, temos que dar os nossos pulos!<br/>\n"
   ]
  },
  {
   "cell_type": "markdown",
   "metadata": {},
   "source": [
    "2 - Armazenar esses dados em um banco de dados <br/>\n"
   ]
  },
  {
   "cell_type": "code",
   "execution_count": 12,
   "metadata": {},
   "outputs": [
    {
     "data": {
      "text/plain": [
       "'\\nCREATE TABLE anp.preco_combustivel(\\n\\t\\tregiao \\t\\t\\t\\tvarchar(255)\\n\\t\\t,estado\\t\\t\\t\\tvarchar(255)\\n\\t\\t,municipio\\t\\t\\tvarchar(255)\\n\\t\\t,revenda\\t\\t\\tvarchar(255)\\n\\t\\t,cnpj\\t\\t\\t\\tvarchar(255)\\n\\t\\t,nome_rua\\t\\t\\tvarchar(255)\\t\\n\\t\\t,numero_rua\\t\\t\\tvarchar(255)\\n\\t\\t,complemento\\t\\tvarchar(255)\\n\\t\\t,bairro\\t\\t\\t\\tvarchar(255)\\n\\t\\t,cep\\t\\t\\t\\tvarchar(255)\\n\\t\\t,produto\\t\\t\\tvarchar(255)\\n\\t\\t,data_coleta\\t\\tdate\\n\\t\\t,valor_venda\\t\\tfloat\\n\\t\\t,unidade_medida\\t\\tvarchar(255)\\n\\t\\t,bandeira\\t\\t\\tvarchar(255)\\n\\n)\\n'"
      ]
     },
     "execution_count": 12,
     "metadata": {},
     "output_type": "execute_result"
    }
   ],
   "source": [
    "\"\"\"\n",
    "CREATE TABLE anp.preco_combustivel(\n",
    "\t\tregiao \t\t\t\tvarchar(255)\n",
    "\t\t,estado\t\t\t\tvarchar(255)\n",
    "\t\t,municipio\t\t\tvarchar(255)\n",
    "\t\t,revenda\t\t\tvarchar(255)\n",
    "\t\t,cnpj\t\t\t\tvarchar(255)\n",
    "\t\t,nome_rua\t\t\tvarchar(255)\t\n",
    "\t\t,numero_rua\t\t\tvarchar(255)\n",
    "\t\t,complemento\t\tvarchar(255)\n",
    "\t\t,bairro\t\t\t\tvarchar(255)\n",
    "\t\t,cep\t\t\t\tvarchar(255)\n",
    "\t\t,produto\t\t\tvarchar(255)\n",
    "\t\t,data_coleta\t\tdate\n",
    "\t\t,valor_venda\t\tfloat\n",
    "\t\t,unidade_medida\t\tvarchar(255)\n",
    "\t\t,bandeira\t\t\tvarchar(255)\n",
    "\n",
    ")\n",
    "\"\"\""
   ]
  },
  {
   "cell_type": "markdown",
   "metadata": {},
   "source": [
    "Carga de dados no Banco! <br/>\n",
    "Utilizaremos o Knime<br/>\n",
    "\n",
    "Para atender as nossas necessidades vamos construir desta forma.<br/>\n"
   ]
  },
  {
   "cell_type": "markdown",
   "metadata": {},
   "source": [
    "3 - Utilizar esses dados para as nossas análises <br/>"
   ]
  },
  {
   "cell_type": "markdown",
   "metadata": {},
   "source": [
    "Instalando as bibliotecas"
   ]
  },
  {
   "cell_type": "code",
   "execution_count": 2,
   "metadata": {},
   "outputs": [
    {
     "name": "stdout",
     "output_type": "stream",
     "text": [
      "Requirement already satisfied: psycopg2 in c:\\users\\usuario\\anaconda3\\lib\\site-packages (2.9.9)\n",
      "Note: you may need to restart the kernel to use updated packages.\n"
     ]
    }
   ],
   "source": [
    "pip install psycopg2"
   ]
  },
  {
   "cell_type": "code",
   "execution_count": 3,
   "metadata": {},
   "outputs": [],
   "source": [
    "import pandas as pd\n",
    "import pandas.io.sql as sqlio\n",
    "import psycopg2 as ps"
   ]
  },
  {
   "cell_type": "code",
   "execution_count": 4,
   "metadata": {},
   "outputs": [],
   "source": [
    "conn = ps.connect(dbname = 'ANP_dataviz',\n",
    "                    user ='postgres',\n",
    "                    password = 'Ecotur78*',\n",
    "                    host = 'localhost',\n",
    "                    port = '5432' )"
   ]
  },
  {
   "cell_type": "code",
   "execution_count": 35,
   "metadata": {},
   "outputs": [],
   "source": [
    "sql = \"\"\"\n",
    "SELECT * FROM anp.preco_combusta\n",
    "\"\"\""
   ]
  },
  {
   "cell_type": "code",
   "execution_count": 36,
   "metadata": {},
   "outputs": [
    {
     "name": "stderr",
     "output_type": "stream",
     "text": [
      "C:\\Users\\Usuario\\AppData\\Local\\Temp\\ipykernel_3052\\76855033.py:1: UserWarning: pandas only supports SQLAlchemy connectable (engine/connection) or database string URI or sqlite3 DBAPI2 connection. Other DBAPI2 objects are not tested. Please consider using SQLAlchemy.\n",
      "  df = sqlio.read_sql_query(sql, conn)\n"
     ]
    }
   ],
   "source": [
    "df = sqlio.read_sql_query(sql, conn)"
   ]
  },
  {
   "cell_type": "code",
   "execution_count": 37,
   "metadata": {},
   "outputs": [
    {
     "data": {
      "text/html": [
       "<div>\n",
       "<style scoped>\n",
       "    .dataframe tbody tr th:only-of-type {\n",
       "        vertical-align: middle;\n",
       "    }\n",
       "\n",
       "    .dataframe tbody tr th {\n",
       "        vertical-align: top;\n",
       "    }\n",
       "\n",
       "    .dataframe thead th {\n",
       "        text-align: right;\n",
       "    }\n",
       "</style>\n",
       "<table border=\"1\" class=\"dataframe\">\n",
       "  <thead>\n",
       "    <tr style=\"text-align: right;\">\n",
       "      <th></th>\n",
       "      <th>regiao</th>\n",
       "      <th>estado</th>\n",
       "      <th>municipio</th>\n",
       "      <th>revenda</th>\n",
       "      <th>cnpj</th>\n",
       "      <th>nome_rua</th>\n",
       "      <th>numero_rua</th>\n",
       "      <th>complemento</th>\n",
       "      <th>bairro</th>\n",
       "      <th>cep</th>\n",
       "      <th>produto</th>\n",
       "      <th>data_coleta</th>\n",
       "      <th>valor_venda</th>\n",
       "      <th>unidade_medida</th>\n",
       "      <th>bandeira</th>\n",
       "    </tr>\n",
       "  </thead>\n",
       "  <tbody>\n",
       "    <tr>\n",
       "      <th>0</th>\n",
       "      <td>NE</td>\n",
       "      <td>BA</td>\n",
       "      <td>SALVADOR</td>\n",
       "      <td>PETROBRAS DISTRIBUIDORA S.A.</td>\n",
       "      <td>34.274.233/0015-08</td>\n",
       "      <td>RUA EDISTIO PONDE</td>\n",
       "      <td>474</td>\n",
       "      <td>None</td>\n",
       "      <td>STIEP</td>\n",
       "      <td>41770-395</td>\n",
       "      <td>GNV</td>\n",
       "      <td>2018-01-02</td>\n",
       "      <td>2.370</td>\n",
       "      <td>R$ / m³</td>\n",
       "      <td>PETROBRAS DISTRIBUIDORA S.A.</td>\n",
       "    </tr>\n",
       "    <tr>\n",
       "      <th>1</th>\n",
       "      <td>NE</td>\n",
       "      <td>BA</td>\n",
       "      <td>SALVADOR</td>\n",
       "      <td>PETROBRAS DISTRIBUIDORA S.A.</td>\n",
       "      <td>34.274.233/0015-08</td>\n",
       "      <td>RUA EDISTIO PONDE</td>\n",
       "      <td>474</td>\n",
       "      <td>None</td>\n",
       "      <td>STIEP</td>\n",
       "      <td>41770-395</td>\n",
       "      <td>DIESEL S10</td>\n",
       "      <td>2018-01-02</td>\n",
       "      <td>3.240</td>\n",
       "      <td>R$ / litro</td>\n",
       "      <td>PETROBRAS DISTRIBUIDORA S.A.</td>\n",
       "    </tr>\n",
       "    <tr>\n",
       "      <th>2</th>\n",
       "      <td>NE</td>\n",
       "      <td>BA</td>\n",
       "      <td>SALVADOR</td>\n",
       "      <td>PETROBRAS DISTRIBUIDORA S.A.</td>\n",
       "      <td>34.274.233/0015-08</td>\n",
       "      <td>RUA EDISTIO PONDE</td>\n",
       "      <td>474</td>\n",
       "      <td>None</td>\n",
       "      <td>STIEP</td>\n",
       "      <td>41770-395</td>\n",
       "      <td>ETANOL</td>\n",
       "      <td>2018-01-02</td>\n",
       "      <td>2.930</td>\n",
       "      <td>R$ / litro</td>\n",
       "      <td>PETROBRAS DISTRIBUIDORA S.A.</td>\n",
       "    </tr>\n",
       "    <tr>\n",
       "      <th>3</th>\n",
       "      <td>NE</td>\n",
       "      <td>BA</td>\n",
       "      <td>SALVADOR</td>\n",
       "      <td>PETROBRAS DISTRIBUIDORA S.A.</td>\n",
       "      <td>34.274.233/0015-08</td>\n",
       "      <td>RUA EDISTIO PONDE</td>\n",
       "      <td>474</td>\n",
       "      <td>None</td>\n",
       "      <td>STIEP</td>\n",
       "      <td>41770-395</td>\n",
       "      <td>GASOLINA</td>\n",
       "      <td>2018-01-02</td>\n",
       "      <td>3.620</td>\n",
       "      <td>R$ / litro</td>\n",
       "      <td>PETROBRAS DISTRIBUIDORA S.A.</td>\n",
       "    </tr>\n",
       "    <tr>\n",
       "      <th>4</th>\n",
       "      <td>S</td>\n",
       "      <td>RS</td>\n",
       "      <td>CANOAS</td>\n",
       "      <td>METROPOLITANO COMERCIO DE COMBUSTIVEIS LTDA</td>\n",
       "      <td>88.587.589/0001-17</td>\n",
       "      <td>AVENIDA GUILHERME SCHELL</td>\n",
       "      <td>6340</td>\n",
       "      <td>None</td>\n",
       "      <td>CENTRO</td>\n",
       "      <td>92310-000</td>\n",
       "      <td>GNV</td>\n",
       "      <td>2018-01-02</td>\n",
       "      <td>2.699</td>\n",
       "      <td>R$ / m³</td>\n",
       "      <td>BRANCA</td>\n",
       "    </tr>\n",
       "  </tbody>\n",
       "</table>\n",
       "</div>"
      ],
      "text/plain": [
       "  regiao estado municipio                                      revenda  \\\n",
       "0     NE     BA  SALVADOR                 PETROBRAS DISTRIBUIDORA S.A.   \n",
       "1     NE     BA  SALVADOR                 PETROBRAS DISTRIBUIDORA S.A.   \n",
       "2     NE     BA  SALVADOR                 PETROBRAS DISTRIBUIDORA S.A.   \n",
       "3     NE     BA  SALVADOR                 PETROBRAS DISTRIBUIDORA S.A.   \n",
       "4      S     RS    CANOAS  METROPOLITANO COMERCIO DE COMBUSTIVEIS LTDA   \n",
       "\n",
       "                  cnpj                  nome_rua numero_rua complemento  \\\n",
       "0   34.274.233/0015-08         RUA EDISTIO PONDE        474        None   \n",
       "1   34.274.233/0015-08         RUA EDISTIO PONDE        474        None   \n",
       "2   34.274.233/0015-08         RUA EDISTIO PONDE        474        None   \n",
       "3   34.274.233/0015-08         RUA EDISTIO PONDE        474        None   \n",
       "4   88.587.589/0001-17  AVENIDA GUILHERME SCHELL       6340        None   \n",
       "\n",
       "   bairro        cep     produto data_coleta  valor_venda unidade_medida  \\\n",
       "0   STIEP  41770-395         GNV  2018-01-02        2.370        R$ / m³   \n",
       "1   STIEP  41770-395  DIESEL S10  2018-01-02        3.240     R$ / litro   \n",
       "2   STIEP  41770-395      ETANOL  2018-01-02        2.930     R$ / litro   \n",
       "3   STIEP  41770-395    GASOLINA  2018-01-02        3.620     R$ / litro   \n",
       "4  CENTRO  92310-000         GNV  2018-01-02        2.699        R$ / m³   \n",
       "\n",
       "                       bandeira  \n",
       "0  PETROBRAS DISTRIBUIDORA S.A.  \n",
       "1  PETROBRAS DISTRIBUIDORA S.A.  \n",
       "2  PETROBRAS DISTRIBUIDORA S.A.  \n",
       "3  PETROBRAS DISTRIBUIDORA S.A.  \n",
       "4                        BRANCA  "
      ]
     },
     "execution_count": 37,
     "metadata": {},
     "output_type": "execute_result"
    }
   ],
   "source": [
    "df.head()"
   ]
  },
  {
   "cell_type": "code",
   "execution_count": 38,
   "metadata": {},
   "outputs": [
    {
     "name": "stdout",
     "output_type": "stream",
     "text": [
      "<class 'pandas.core.frame.DataFrame'>\n",
      "RangeIndex: 655350 entries, 0 to 655349\n",
      "Data columns (total 15 columns):\n",
      " #   Column          Non-Null Count   Dtype  \n",
      "---  ------          --------------   -----  \n",
      " 0   regiao          458745 non-null  object \n",
      " 1   estado          458745 non-null  object \n",
      " 2   municipio       458745 non-null  object \n",
      " 3   revenda         458745 non-null  object \n",
      " 4   cnpj            458745 non-null  object \n",
      " 5   nome_rua        458745 non-null  object \n",
      " 6   numero_rua      458494 non-null  object \n",
      " 7   complemento     104955 non-null  object \n",
      " 8   bairro          457369 non-null  object \n",
      " 9   cep             458745 non-null  object \n",
      " 10  produto         458745 non-null  object \n",
      " 11  data_coleta     458745 non-null  object \n",
      " 12  valor_venda     458745 non-null  float64\n",
      " 13  unidade_medida  458745 non-null  object \n",
      " 14  bandeira        458745 non-null  object \n",
      "dtypes: float64(1), object(14)\n",
      "memory usage: 75.0+ MB\n"
     ]
    }
   ],
   "source": [
    "df.info()"
   ]
  },
  {
   "cell_type": "code",
   "execution_count": 39,
   "metadata": {},
   "outputs": [
    {
     "data": {
      "text/plain": [
       "(655350, 15)"
      ]
     },
     "execution_count": 39,
     "metadata": {},
     "output_type": "execute_result"
    }
   ],
   "source": [
    "df.shape"
   ]
  },
  {
   "cell_type": "code",
   "execution_count": 40,
   "metadata": {},
   "outputs": [],
   "source": [
    "df['data_coleta'] = pd.to_datetime(df['data_coleta'], errors='coerce')"
   ]
  },
  {
   "cell_type": "code",
   "execution_count": 41,
   "metadata": {},
   "outputs": [
    {
     "name": "stdout",
     "output_type": "stream",
     "text": [
      "<class 'pandas.core.frame.DataFrame'>\n",
      "RangeIndex: 655350 entries, 0 to 655349\n",
      "Data columns (total 15 columns):\n",
      " #   Column          Non-Null Count   Dtype         \n",
      "---  ------          --------------   -----         \n",
      " 0   regiao          458745 non-null  object        \n",
      " 1   estado          458745 non-null  object        \n",
      " 2   municipio       458745 non-null  object        \n",
      " 3   revenda         458745 non-null  object        \n",
      " 4   cnpj            458745 non-null  object        \n",
      " 5   nome_rua        458745 non-null  object        \n",
      " 6   numero_rua      458494 non-null  object        \n",
      " 7   complemento     104955 non-null  object        \n",
      " 8   bairro          457369 non-null  object        \n",
      " 9   cep             458745 non-null  object        \n",
      " 10  produto         458745 non-null  object        \n",
      " 11  data_coleta     458745 non-null  datetime64[ns]\n",
      " 12  valor_venda     458745 non-null  float64       \n",
      " 13  unidade_medida  458745 non-null  object        \n",
      " 14  bandeira        458745 non-null  object        \n",
      "dtypes: datetime64[ns](1), float64(1), object(13)\n",
      "memory usage: 75.0+ MB\n"
     ]
    }
   ],
   "source": [
    "df.info()"
   ]
  },
  {
   "cell_type": "code",
   "execution_count": 42,
   "metadata": {},
   "outputs": [
    {
     "data": {
      "text/html": [
       "<div>\n",
       "<style scoped>\n",
       "    .dataframe tbody tr th:only-of-type {\n",
       "        vertical-align: middle;\n",
       "    }\n",
       "\n",
       "    .dataframe tbody tr th {\n",
       "        vertical-align: top;\n",
       "    }\n",
       "\n",
       "    .dataframe thead th {\n",
       "        text-align: right;\n",
       "    }\n",
       "</style>\n",
       "<table border=\"1\" class=\"dataframe\">\n",
       "  <thead>\n",
       "    <tr style=\"text-align: right;\">\n",
       "      <th></th>\n",
       "      <th>regiao</th>\n",
       "      <th>estado</th>\n",
       "      <th>municipio</th>\n",
       "      <th>revenda</th>\n",
       "      <th>cnpj</th>\n",
       "      <th>nome_rua</th>\n",
       "      <th>numero_rua</th>\n",
       "      <th>complemento</th>\n",
       "      <th>bairro</th>\n",
       "      <th>cep</th>\n",
       "      <th>produto</th>\n",
       "      <th>data_coleta</th>\n",
       "      <th>valor_venda</th>\n",
       "      <th>unidade_medida</th>\n",
       "      <th>bandeira</th>\n",
       "    </tr>\n",
       "  </thead>\n",
       "  <tbody>\n",
       "    <tr>\n",
       "      <th>0</th>\n",
       "      <td>NE</td>\n",
       "      <td>BA</td>\n",
       "      <td>SALVADOR</td>\n",
       "      <td>PETROBRAS DISTRIBUIDORA S.A.</td>\n",
       "      <td>34.274.233/0015-08</td>\n",
       "      <td>RUA EDISTIO PONDE</td>\n",
       "      <td>474</td>\n",
       "      <td>None</td>\n",
       "      <td>STIEP</td>\n",
       "      <td>41770-395</td>\n",
       "      <td>GNV</td>\n",
       "      <td>2018-01-02</td>\n",
       "      <td>2.370</td>\n",
       "      <td>R$ / m³</td>\n",
       "      <td>PETROBRAS DISTRIBUIDORA S.A.</td>\n",
       "    </tr>\n",
       "    <tr>\n",
       "      <th>1</th>\n",
       "      <td>NE</td>\n",
       "      <td>BA</td>\n",
       "      <td>SALVADOR</td>\n",
       "      <td>PETROBRAS DISTRIBUIDORA S.A.</td>\n",
       "      <td>34.274.233/0015-08</td>\n",
       "      <td>RUA EDISTIO PONDE</td>\n",
       "      <td>474</td>\n",
       "      <td>None</td>\n",
       "      <td>STIEP</td>\n",
       "      <td>41770-395</td>\n",
       "      <td>DIESEL S10</td>\n",
       "      <td>2018-01-02</td>\n",
       "      <td>3.240</td>\n",
       "      <td>R$ / litro</td>\n",
       "      <td>PETROBRAS DISTRIBUIDORA S.A.</td>\n",
       "    </tr>\n",
       "    <tr>\n",
       "      <th>2</th>\n",
       "      <td>NE</td>\n",
       "      <td>BA</td>\n",
       "      <td>SALVADOR</td>\n",
       "      <td>PETROBRAS DISTRIBUIDORA S.A.</td>\n",
       "      <td>34.274.233/0015-08</td>\n",
       "      <td>RUA EDISTIO PONDE</td>\n",
       "      <td>474</td>\n",
       "      <td>None</td>\n",
       "      <td>STIEP</td>\n",
       "      <td>41770-395</td>\n",
       "      <td>ETANOL</td>\n",
       "      <td>2018-01-02</td>\n",
       "      <td>2.930</td>\n",
       "      <td>R$ / litro</td>\n",
       "      <td>PETROBRAS DISTRIBUIDORA S.A.</td>\n",
       "    </tr>\n",
       "    <tr>\n",
       "      <th>3</th>\n",
       "      <td>NE</td>\n",
       "      <td>BA</td>\n",
       "      <td>SALVADOR</td>\n",
       "      <td>PETROBRAS DISTRIBUIDORA S.A.</td>\n",
       "      <td>34.274.233/0015-08</td>\n",
       "      <td>RUA EDISTIO PONDE</td>\n",
       "      <td>474</td>\n",
       "      <td>None</td>\n",
       "      <td>STIEP</td>\n",
       "      <td>41770-395</td>\n",
       "      <td>GASOLINA</td>\n",
       "      <td>2018-01-02</td>\n",
       "      <td>3.620</td>\n",
       "      <td>R$ / litro</td>\n",
       "      <td>PETROBRAS DISTRIBUIDORA S.A.</td>\n",
       "    </tr>\n",
       "    <tr>\n",
       "      <th>4</th>\n",
       "      <td>S</td>\n",
       "      <td>RS</td>\n",
       "      <td>CANOAS</td>\n",
       "      <td>METROPOLITANO COMERCIO DE COMBUSTIVEIS LTDA</td>\n",
       "      <td>88.587.589/0001-17</td>\n",
       "      <td>AVENIDA GUILHERME SCHELL</td>\n",
       "      <td>6340</td>\n",
       "      <td>None</td>\n",
       "      <td>CENTRO</td>\n",
       "      <td>92310-000</td>\n",
       "      <td>GNV</td>\n",
       "      <td>2018-01-02</td>\n",
       "      <td>2.699</td>\n",
       "      <td>R$ / m³</td>\n",
       "      <td>BRANCA</td>\n",
       "    </tr>\n",
       "    <tr>\n",
       "      <th>...</th>\n",
       "      <td>...</td>\n",
       "      <td>...</td>\n",
       "      <td>...</td>\n",
       "      <td>...</td>\n",
       "      <td>...</td>\n",
       "      <td>...</td>\n",
       "      <td>...</td>\n",
       "      <td>...</td>\n",
       "      <td>...</td>\n",
       "      <td>...</td>\n",
       "      <td>...</td>\n",
       "      <td>...</td>\n",
       "      <td>...</td>\n",
       "      <td>...</td>\n",
       "      <td>...</td>\n",
       "    </tr>\n",
       "    <tr>\n",
       "      <th>655345</th>\n",
       "      <td>NE</td>\n",
       "      <td>BA</td>\n",
       "      <td>ILHEUS</td>\n",
       "      <td>IVAN COELHO PORTO &amp; IRMAOS LTDA</td>\n",
       "      <td>13.322.102/0001-75</td>\n",
       "      <td>RUA A ROD ILHEUS OLIVENCA</td>\n",
       "      <td>SN</td>\n",
       "      <td>KM 0</td>\n",
       "      <td>SAO FRANCISCO</td>\n",
       "      <td>45650-780</td>\n",
       "      <td>DIESEL</td>\n",
       "      <td>2022-07-25</td>\n",
       "      <td>7.750</td>\n",
       "      <td>R$ / litro</td>\n",
       "      <td>BRANCA</td>\n",
       "    </tr>\n",
       "    <tr>\n",
       "      <th>655346</th>\n",
       "      <td>NE</td>\n",
       "      <td>BA</td>\n",
       "      <td>ILHEUS</td>\n",
       "      <td>IVAN COELHO PORTO &amp; IRMAOS LTDA</td>\n",
       "      <td>13.322.102/0001-75</td>\n",
       "      <td>RUA A ROD ILHEUS OLIVENCA</td>\n",
       "      <td>SN</td>\n",
       "      <td>KM 0</td>\n",
       "      <td>SAO FRANCISCO</td>\n",
       "      <td>45650-780</td>\n",
       "      <td>GASOLINA ADITIVADA</td>\n",
       "      <td>2022-07-25</td>\n",
       "      <td>5.980</td>\n",
       "      <td>R$ / litro</td>\n",
       "      <td>BRANCA</td>\n",
       "    </tr>\n",
       "    <tr>\n",
       "      <th>655347</th>\n",
       "      <td>NE</td>\n",
       "      <td>BA</td>\n",
       "      <td>ILHEUS</td>\n",
       "      <td>IVAN COELHO PORTO &amp; IRMAOS LTDA</td>\n",
       "      <td>13.322.102/0001-75</td>\n",
       "      <td>RUA A ROD ILHEUS OLIVENCA</td>\n",
       "      <td>SN</td>\n",
       "      <td>KM 0</td>\n",
       "      <td>SAO FRANCISCO</td>\n",
       "      <td>45650-780</td>\n",
       "      <td>DIESEL S10</td>\n",
       "      <td>2022-07-25</td>\n",
       "      <td>7.890</td>\n",
       "      <td>R$ / litro</td>\n",
       "      <td>BRANCA</td>\n",
       "    </tr>\n",
       "    <tr>\n",
       "      <th>655348</th>\n",
       "      <td>NE</td>\n",
       "      <td>BA</td>\n",
       "      <td>ILHEUS</td>\n",
       "      <td>POSTO DE SERVICOS DOM EDUARDO LTDA.</td>\n",
       "      <td>13.631.353/0001-31</td>\n",
       "      <td>AVENIDA ITABUNA</td>\n",
       "      <td>1814</td>\n",
       "      <td>MODULOS A E B</td>\n",
       "      <td>BASILIO</td>\n",
       "      <td>45658-565</td>\n",
       "      <td>GASOLINA</td>\n",
       "      <td>2022-07-25</td>\n",
       "      <td>5.960</td>\n",
       "      <td>R$ / litro</td>\n",
       "      <td>BRANCA</td>\n",
       "    </tr>\n",
       "    <tr>\n",
       "      <th>655349</th>\n",
       "      <td>NE</td>\n",
       "      <td>BA</td>\n",
       "      <td>ILHEUS</td>\n",
       "      <td>POSTO DE SERVICOS DOM EDUARDO LTDA.</td>\n",
       "      <td>13.631.353/0001-31</td>\n",
       "      <td>AVENIDA ITABUNA</td>\n",
       "      <td>1814</td>\n",
       "      <td>MODULOS A E B</td>\n",
       "      <td>BASILIO</td>\n",
       "      <td>45658-565</td>\n",
       "      <td>ETANOL</td>\n",
       "      <td>2022-07-25</td>\n",
       "      <td>5.240</td>\n",
       "      <td>R$ / litro</td>\n",
       "      <td>BRANCA</td>\n",
       "    </tr>\n",
       "  </tbody>\n",
       "</table>\n",
       "<p>655350 rows × 15 columns</p>\n",
       "</div>"
      ],
      "text/plain": [
       "       regiao estado municipio                                      revenda  \\\n",
       "0          NE     BA  SALVADOR                 PETROBRAS DISTRIBUIDORA S.A.   \n",
       "1          NE     BA  SALVADOR                 PETROBRAS DISTRIBUIDORA S.A.   \n",
       "2          NE     BA  SALVADOR                 PETROBRAS DISTRIBUIDORA S.A.   \n",
       "3          NE     BA  SALVADOR                 PETROBRAS DISTRIBUIDORA S.A.   \n",
       "4           S     RS    CANOAS  METROPOLITANO COMERCIO DE COMBUSTIVEIS LTDA   \n",
       "...       ...    ...       ...                                          ...   \n",
       "655345     NE     BA    ILHEUS              IVAN COELHO PORTO & IRMAOS LTDA   \n",
       "655346     NE     BA    ILHEUS              IVAN COELHO PORTO & IRMAOS LTDA   \n",
       "655347     NE     BA    ILHEUS              IVAN COELHO PORTO & IRMAOS LTDA   \n",
       "655348     NE     BA    ILHEUS          POSTO DE SERVICOS DOM EDUARDO LTDA.   \n",
       "655349     NE     BA    ILHEUS          POSTO DE SERVICOS DOM EDUARDO LTDA.   \n",
       "\n",
       "                       cnpj                   nome_rua numero_rua  \\\n",
       "0        34.274.233/0015-08          RUA EDISTIO PONDE        474   \n",
       "1        34.274.233/0015-08          RUA EDISTIO PONDE        474   \n",
       "2        34.274.233/0015-08          RUA EDISTIO PONDE        474   \n",
       "3        34.274.233/0015-08          RUA EDISTIO PONDE        474   \n",
       "4        88.587.589/0001-17   AVENIDA GUILHERME SCHELL       6340   \n",
       "...                     ...                        ...        ...   \n",
       "655345   13.322.102/0001-75  RUA A ROD ILHEUS OLIVENCA         SN   \n",
       "655346   13.322.102/0001-75  RUA A ROD ILHEUS OLIVENCA         SN   \n",
       "655347   13.322.102/0001-75  RUA A ROD ILHEUS OLIVENCA         SN   \n",
       "655348   13.631.353/0001-31            AVENIDA ITABUNA       1814   \n",
       "655349   13.631.353/0001-31            AVENIDA ITABUNA       1814   \n",
       "\n",
       "          complemento         bairro        cep             produto  \\\n",
       "0                None          STIEP  41770-395                 GNV   \n",
       "1                None          STIEP  41770-395          DIESEL S10   \n",
       "2                None          STIEP  41770-395              ETANOL   \n",
       "3                None          STIEP  41770-395            GASOLINA   \n",
       "4                None         CENTRO  92310-000                 GNV   \n",
       "...               ...            ...        ...                 ...   \n",
       "655345           KM 0  SAO FRANCISCO  45650-780              DIESEL   \n",
       "655346           KM 0  SAO FRANCISCO  45650-780  GASOLINA ADITIVADA   \n",
       "655347           KM 0  SAO FRANCISCO  45650-780          DIESEL S10   \n",
       "655348  MODULOS A E B        BASILIO  45658-565            GASOLINA   \n",
       "655349  MODULOS A E B        BASILIO  45658-565              ETANOL   \n",
       "\n",
       "       data_coleta  valor_venda unidade_medida                      bandeira  \n",
       "0       2018-01-02        2.370        R$ / m³  PETROBRAS DISTRIBUIDORA S.A.  \n",
       "1       2018-01-02        3.240     R$ / litro  PETROBRAS DISTRIBUIDORA S.A.  \n",
       "2       2018-01-02        2.930     R$ / litro  PETROBRAS DISTRIBUIDORA S.A.  \n",
       "3       2018-01-02        3.620     R$ / litro  PETROBRAS DISTRIBUIDORA S.A.  \n",
       "4       2018-01-02        2.699        R$ / m³                        BRANCA  \n",
       "...            ...          ...            ...                           ...  \n",
       "655345  2022-07-25        7.750     R$ / litro                        BRANCA  \n",
       "655346  2022-07-25        5.980     R$ / litro                        BRANCA  \n",
       "655347  2022-07-25        7.890     R$ / litro                        BRANCA  \n",
       "655348  2022-07-25        5.960     R$ / litro                        BRANCA  \n",
       "655349  2022-07-25        5.240     R$ / litro                        BRANCA  \n",
       "\n",
       "[655350 rows x 15 columns]"
      ]
     },
     "execution_count": 42,
     "metadata": {},
     "output_type": "execute_result"
    }
   ],
   "source": [
    "df"
   ]
  },
  {
   "cell_type": "code",
   "execution_count": 43,
   "metadata": {},
   "outputs": [
    {
     "data": {
      "text/plain": [
       "regiao            196605\n",
       "estado            196605\n",
       "municipio         196605\n",
       "revenda           196605\n",
       "cnpj              196605\n",
       "nome_rua          196605\n",
       "numero_rua        196856\n",
       "complemento       550395\n",
       "bairro            197981\n",
       "cep               196605\n",
       "produto           196605\n",
       "data_coleta       196605\n",
       "valor_venda       196605\n",
       "unidade_medida    196605\n",
       "bandeira          196605\n",
       "dtype: int64"
      ]
     },
     "execution_count": 43,
     "metadata": {},
     "output_type": "execute_result"
    }
   ],
   "source": [
    "df.isnull().sum()"
   ]
  },
  {
   "cell_type": "code",
   "execution_count": 44,
   "metadata": {},
   "outputs": [],
   "source": [
    "coluna_excecao = 'complemento'\n",
    "df = df.dropna(subset=df.columns.difference([coluna_excecao]))"
   ]
  },
  {
   "cell_type": "code",
   "execution_count": 45,
   "metadata": {},
   "outputs": [
    {
     "data": {
      "text/plain": [
       "regiao                 0\n",
       "estado                 0\n",
       "municipio              0\n",
       "revenda                0\n",
       "cnpj                   0\n",
       "nome_rua               0\n",
       "numero_rua             0\n",
       "complemento       352645\n",
       "bairro                 0\n",
       "cep                    0\n",
       "produto                0\n",
       "data_coleta            0\n",
       "valor_venda            0\n",
       "unidade_medida         0\n",
       "bandeira               0\n",
       "dtype: int64"
      ]
     },
     "execution_count": 45,
     "metadata": {},
     "output_type": "execute_result"
    }
   ],
   "source": [
    "df.isnull().sum()"
   ]
  },
  {
   "cell_type": "code",
   "execution_count": 46,
   "metadata": {},
   "outputs": [],
   "source": [
    "df_anp = df[['data_coleta', 'regiao', 'estado', 'municipio', 'bandeira', 'produto', 'valor_venda']]"
   ]
  },
  {
   "cell_type": "code",
   "execution_count": 47,
   "metadata": {},
   "outputs": [
    {
     "data": {
      "text/html": [
       "<div>\n",
       "<style scoped>\n",
       "    .dataframe tbody tr th:only-of-type {\n",
       "        vertical-align: middle;\n",
       "    }\n",
       "\n",
       "    .dataframe tbody tr th {\n",
       "        vertical-align: top;\n",
       "    }\n",
       "\n",
       "    .dataframe thead th {\n",
       "        text-align: right;\n",
       "    }\n",
       "</style>\n",
       "<table border=\"1\" class=\"dataframe\">\n",
       "  <thead>\n",
       "    <tr style=\"text-align: right;\">\n",
       "      <th></th>\n",
       "      <th>data_coleta</th>\n",
       "      <th>regiao</th>\n",
       "      <th>estado</th>\n",
       "      <th>municipio</th>\n",
       "      <th>bandeira</th>\n",
       "      <th>produto</th>\n",
       "      <th>valor_venda</th>\n",
       "    </tr>\n",
       "  </thead>\n",
       "  <tbody>\n",
       "    <tr>\n",
       "      <th>0</th>\n",
       "      <td>2018-01-02</td>\n",
       "      <td>NE</td>\n",
       "      <td>BA</td>\n",
       "      <td>SALVADOR</td>\n",
       "      <td>PETROBRAS DISTRIBUIDORA S.A.</td>\n",
       "      <td>GNV</td>\n",
       "      <td>2.370</td>\n",
       "    </tr>\n",
       "    <tr>\n",
       "      <th>1</th>\n",
       "      <td>2018-01-02</td>\n",
       "      <td>NE</td>\n",
       "      <td>BA</td>\n",
       "      <td>SALVADOR</td>\n",
       "      <td>PETROBRAS DISTRIBUIDORA S.A.</td>\n",
       "      <td>DIESEL S10</td>\n",
       "      <td>3.240</td>\n",
       "    </tr>\n",
       "    <tr>\n",
       "      <th>2</th>\n",
       "      <td>2018-01-02</td>\n",
       "      <td>NE</td>\n",
       "      <td>BA</td>\n",
       "      <td>SALVADOR</td>\n",
       "      <td>PETROBRAS DISTRIBUIDORA S.A.</td>\n",
       "      <td>ETANOL</td>\n",
       "      <td>2.930</td>\n",
       "    </tr>\n",
       "    <tr>\n",
       "      <th>3</th>\n",
       "      <td>2018-01-02</td>\n",
       "      <td>NE</td>\n",
       "      <td>BA</td>\n",
       "      <td>SALVADOR</td>\n",
       "      <td>PETROBRAS DISTRIBUIDORA S.A.</td>\n",
       "      <td>GASOLINA</td>\n",
       "      <td>3.620</td>\n",
       "    </tr>\n",
       "    <tr>\n",
       "      <th>4</th>\n",
       "      <td>2018-01-02</td>\n",
       "      <td>S</td>\n",
       "      <td>RS</td>\n",
       "      <td>CANOAS</td>\n",
       "      <td>BRANCA</td>\n",
       "      <td>GNV</td>\n",
       "      <td>2.699</td>\n",
       "    </tr>\n",
       "    <tr>\n",
       "      <th>...</th>\n",
       "      <td>...</td>\n",
       "      <td>...</td>\n",
       "      <td>...</td>\n",
       "      <td>...</td>\n",
       "      <td>...</td>\n",
       "      <td>...</td>\n",
       "      <td>...</td>\n",
       "    </tr>\n",
       "    <tr>\n",
       "      <th>655345</th>\n",
       "      <td>2022-07-25</td>\n",
       "      <td>NE</td>\n",
       "      <td>BA</td>\n",
       "      <td>ILHEUS</td>\n",
       "      <td>BRANCA</td>\n",
       "      <td>DIESEL</td>\n",
       "      <td>7.750</td>\n",
       "    </tr>\n",
       "    <tr>\n",
       "      <th>655346</th>\n",
       "      <td>2022-07-25</td>\n",
       "      <td>NE</td>\n",
       "      <td>BA</td>\n",
       "      <td>ILHEUS</td>\n",
       "      <td>BRANCA</td>\n",
       "      <td>GASOLINA ADITIVADA</td>\n",
       "      <td>5.980</td>\n",
       "    </tr>\n",
       "    <tr>\n",
       "      <th>655347</th>\n",
       "      <td>2022-07-25</td>\n",
       "      <td>NE</td>\n",
       "      <td>BA</td>\n",
       "      <td>ILHEUS</td>\n",
       "      <td>BRANCA</td>\n",
       "      <td>DIESEL S10</td>\n",
       "      <td>7.890</td>\n",
       "    </tr>\n",
       "    <tr>\n",
       "      <th>655348</th>\n",
       "      <td>2022-07-25</td>\n",
       "      <td>NE</td>\n",
       "      <td>BA</td>\n",
       "      <td>ILHEUS</td>\n",
       "      <td>BRANCA</td>\n",
       "      <td>GASOLINA</td>\n",
       "      <td>5.960</td>\n",
       "    </tr>\n",
       "    <tr>\n",
       "      <th>655349</th>\n",
       "      <td>2022-07-25</td>\n",
       "      <td>NE</td>\n",
       "      <td>BA</td>\n",
       "      <td>ILHEUS</td>\n",
       "      <td>BRANCA</td>\n",
       "      <td>ETANOL</td>\n",
       "      <td>5.240</td>\n",
       "    </tr>\n",
       "  </tbody>\n",
       "</table>\n",
       "<p>457118 rows × 7 columns</p>\n",
       "</div>"
      ],
      "text/plain": [
       "       data_coleta regiao estado municipio                      bandeira  \\\n",
       "0       2018-01-02     NE     BA  SALVADOR  PETROBRAS DISTRIBUIDORA S.A.   \n",
       "1       2018-01-02     NE     BA  SALVADOR  PETROBRAS DISTRIBUIDORA S.A.   \n",
       "2       2018-01-02     NE     BA  SALVADOR  PETROBRAS DISTRIBUIDORA S.A.   \n",
       "3       2018-01-02     NE     BA  SALVADOR  PETROBRAS DISTRIBUIDORA S.A.   \n",
       "4       2018-01-02      S     RS    CANOAS                        BRANCA   \n",
       "...            ...    ...    ...       ...                           ...   \n",
       "655345  2022-07-25     NE     BA    ILHEUS                        BRANCA   \n",
       "655346  2022-07-25     NE     BA    ILHEUS                        BRANCA   \n",
       "655347  2022-07-25     NE     BA    ILHEUS                        BRANCA   \n",
       "655348  2022-07-25     NE     BA    ILHEUS                        BRANCA   \n",
       "655349  2022-07-25     NE     BA    ILHEUS                        BRANCA   \n",
       "\n",
       "                   produto  valor_venda  \n",
       "0                      GNV        2.370  \n",
       "1               DIESEL S10        3.240  \n",
       "2                   ETANOL        2.930  \n",
       "3                 GASOLINA        3.620  \n",
       "4                      GNV        2.699  \n",
       "...                    ...          ...  \n",
       "655345              DIESEL        7.750  \n",
       "655346  GASOLINA ADITIVADA        5.980  \n",
       "655347          DIESEL S10        7.890  \n",
       "655348            GASOLINA        5.960  \n",
       "655349              ETANOL        5.240  \n",
       "\n",
       "[457118 rows x 7 columns]"
      ]
     },
     "execution_count": 47,
     "metadata": {},
     "output_type": "execute_result"
    }
   ],
   "source": [
    "df_anp"
   ]
  },
  {
   "cell_type": "code",
   "execution_count": 48,
   "metadata": {},
   "outputs": [
    {
     "name": "stderr",
     "output_type": "stream",
     "text": [
      "C:\\Users\\Usuario\\AppData\\Local\\Temp\\ipykernel_3052\\3211014845.py:1: SettingWithCopyWarning: \n",
      "A value is trying to be set on a copy of a slice from a DataFrame.\n",
      "Try using .loc[row_indexer,col_indexer] = value instead\n",
      "\n",
      "See the caveats in the documentation: https://pandas.pydata.org/pandas-docs/stable/user_guide/indexing.html#returning-a-view-versus-a-copy\n",
      "  df_anp['ano'] = df_anp['data_coleta'].dt.year\n",
      "C:\\Users\\Usuario\\AppData\\Local\\Temp\\ipykernel_3052\\3211014845.py:2: SettingWithCopyWarning: \n",
      "A value is trying to be set on a copy of a slice from a DataFrame.\n",
      "Try using .loc[row_indexer,col_indexer] = value instead\n",
      "\n",
      "See the caveats in the documentation: https://pandas.pydata.org/pandas-docs/stable/user_guide/indexing.html#returning-a-view-versus-a-copy\n",
      "  df_anp['mes'] = df_anp['data_coleta'].dt.month\n"
     ]
    }
   ],
   "source": [
    "df_anp['ano'] = df_anp['data_coleta'].dt.year\n",
    "df_anp['mes'] = df_anp['data_coleta'].dt.month"
   ]
  },
  {
   "cell_type": "code",
   "execution_count": 49,
   "metadata": {},
   "outputs": [
    {
     "data": {
      "text/html": [
       "<div>\n",
       "<style scoped>\n",
       "    .dataframe tbody tr th:only-of-type {\n",
       "        vertical-align: middle;\n",
       "    }\n",
       "\n",
       "    .dataframe tbody tr th {\n",
       "        vertical-align: top;\n",
       "    }\n",
       "\n",
       "    .dataframe thead th {\n",
       "        text-align: right;\n",
       "    }\n",
       "</style>\n",
       "<table border=\"1\" class=\"dataframe\">\n",
       "  <thead>\n",
       "    <tr style=\"text-align: right;\">\n",
       "      <th></th>\n",
       "      <th>data_coleta</th>\n",
       "      <th>regiao</th>\n",
       "      <th>estado</th>\n",
       "      <th>municipio</th>\n",
       "      <th>bandeira</th>\n",
       "      <th>produto</th>\n",
       "      <th>valor_venda</th>\n",
       "      <th>ano</th>\n",
       "      <th>mes</th>\n",
       "    </tr>\n",
       "  </thead>\n",
       "  <tbody>\n",
       "    <tr>\n",
       "      <th>0</th>\n",
       "      <td>2018-01-02</td>\n",
       "      <td>NE</td>\n",
       "      <td>BA</td>\n",
       "      <td>SALVADOR</td>\n",
       "      <td>PETROBRAS DISTRIBUIDORA S.A.</td>\n",
       "      <td>GNV</td>\n",
       "      <td>2.370</td>\n",
       "      <td>2018</td>\n",
       "      <td>1</td>\n",
       "    </tr>\n",
       "    <tr>\n",
       "      <th>1</th>\n",
       "      <td>2018-01-02</td>\n",
       "      <td>NE</td>\n",
       "      <td>BA</td>\n",
       "      <td>SALVADOR</td>\n",
       "      <td>PETROBRAS DISTRIBUIDORA S.A.</td>\n",
       "      <td>DIESEL S10</td>\n",
       "      <td>3.240</td>\n",
       "      <td>2018</td>\n",
       "      <td>1</td>\n",
       "    </tr>\n",
       "    <tr>\n",
       "      <th>2</th>\n",
       "      <td>2018-01-02</td>\n",
       "      <td>NE</td>\n",
       "      <td>BA</td>\n",
       "      <td>SALVADOR</td>\n",
       "      <td>PETROBRAS DISTRIBUIDORA S.A.</td>\n",
       "      <td>ETANOL</td>\n",
       "      <td>2.930</td>\n",
       "      <td>2018</td>\n",
       "      <td>1</td>\n",
       "    </tr>\n",
       "    <tr>\n",
       "      <th>3</th>\n",
       "      <td>2018-01-02</td>\n",
       "      <td>NE</td>\n",
       "      <td>BA</td>\n",
       "      <td>SALVADOR</td>\n",
       "      <td>PETROBRAS DISTRIBUIDORA S.A.</td>\n",
       "      <td>GASOLINA</td>\n",
       "      <td>3.620</td>\n",
       "      <td>2018</td>\n",
       "      <td>1</td>\n",
       "    </tr>\n",
       "    <tr>\n",
       "      <th>4</th>\n",
       "      <td>2018-01-02</td>\n",
       "      <td>S</td>\n",
       "      <td>RS</td>\n",
       "      <td>CANOAS</td>\n",
       "      <td>BRANCA</td>\n",
       "      <td>GNV</td>\n",
       "      <td>2.699</td>\n",
       "      <td>2018</td>\n",
       "      <td>1</td>\n",
       "    </tr>\n",
       "    <tr>\n",
       "      <th>...</th>\n",
       "      <td>...</td>\n",
       "      <td>...</td>\n",
       "      <td>...</td>\n",
       "      <td>...</td>\n",
       "      <td>...</td>\n",
       "      <td>...</td>\n",
       "      <td>...</td>\n",
       "      <td>...</td>\n",
       "      <td>...</td>\n",
       "    </tr>\n",
       "    <tr>\n",
       "      <th>655345</th>\n",
       "      <td>2022-07-25</td>\n",
       "      <td>NE</td>\n",
       "      <td>BA</td>\n",
       "      <td>ILHEUS</td>\n",
       "      <td>BRANCA</td>\n",
       "      <td>DIESEL</td>\n",
       "      <td>7.750</td>\n",
       "      <td>2022</td>\n",
       "      <td>7</td>\n",
       "    </tr>\n",
       "    <tr>\n",
       "      <th>655346</th>\n",
       "      <td>2022-07-25</td>\n",
       "      <td>NE</td>\n",
       "      <td>BA</td>\n",
       "      <td>ILHEUS</td>\n",
       "      <td>BRANCA</td>\n",
       "      <td>GASOLINA ADITIVADA</td>\n",
       "      <td>5.980</td>\n",
       "      <td>2022</td>\n",
       "      <td>7</td>\n",
       "    </tr>\n",
       "    <tr>\n",
       "      <th>655347</th>\n",
       "      <td>2022-07-25</td>\n",
       "      <td>NE</td>\n",
       "      <td>BA</td>\n",
       "      <td>ILHEUS</td>\n",
       "      <td>BRANCA</td>\n",
       "      <td>DIESEL S10</td>\n",
       "      <td>7.890</td>\n",
       "      <td>2022</td>\n",
       "      <td>7</td>\n",
       "    </tr>\n",
       "    <tr>\n",
       "      <th>655348</th>\n",
       "      <td>2022-07-25</td>\n",
       "      <td>NE</td>\n",
       "      <td>BA</td>\n",
       "      <td>ILHEUS</td>\n",
       "      <td>BRANCA</td>\n",
       "      <td>GASOLINA</td>\n",
       "      <td>5.960</td>\n",
       "      <td>2022</td>\n",
       "      <td>7</td>\n",
       "    </tr>\n",
       "    <tr>\n",
       "      <th>655349</th>\n",
       "      <td>2022-07-25</td>\n",
       "      <td>NE</td>\n",
       "      <td>BA</td>\n",
       "      <td>ILHEUS</td>\n",
       "      <td>BRANCA</td>\n",
       "      <td>ETANOL</td>\n",
       "      <td>5.240</td>\n",
       "      <td>2022</td>\n",
       "      <td>7</td>\n",
       "    </tr>\n",
       "  </tbody>\n",
       "</table>\n",
       "<p>457118 rows × 9 columns</p>\n",
       "</div>"
      ],
      "text/plain": [
       "       data_coleta regiao estado municipio                      bandeira  \\\n",
       "0       2018-01-02     NE     BA  SALVADOR  PETROBRAS DISTRIBUIDORA S.A.   \n",
       "1       2018-01-02     NE     BA  SALVADOR  PETROBRAS DISTRIBUIDORA S.A.   \n",
       "2       2018-01-02     NE     BA  SALVADOR  PETROBRAS DISTRIBUIDORA S.A.   \n",
       "3       2018-01-02     NE     BA  SALVADOR  PETROBRAS DISTRIBUIDORA S.A.   \n",
       "4       2018-01-02      S     RS    CANOAS                        BRANCA   \n",
       "...            ...    ...    ...       ...                           ...   \n",
       "655345  2022-07-25     NE     BA    ILHEUS                        BRANCA   \n",
       "655346  2022-07-25     NE     BA    ILHEUS                        BRANCA   \n",
       "655347  2022-07-25     NE     BA    ILHEUS                        BRANCA   \n",
       "655348  2022-07-25     NE     BA    ILHEUS                        BRANCA   \n",
       "655349  2022-07-25     NE     BA    ILHEUS                        BRANCA   \n",
       "\n",
       "                   produto  valor_venda   ano  mes  \n",
       "0                      GNV        2.370  2018    1  \n",
       "1               DIESEL S10        3.240  2018    1  \n",
       "2                   ETANOL        2.930  2018    1  \n",
       "3                 GASOLINA        3.620  2018    1  \n",
       "4                      GNV        2.699  2018    1  \n",
       "...                    ...          ...   ...  ...  \n",
       "655345              DIESEL        7.750  2022    7  \n",
       "655346  GASOLINA ADITIVADA        5.980  2022    7  \n",
       "655347          DIESEL S10        7.890  2022    7  \n",
       "655348            GASOLINA        5.960  2022    7  \n",
       "655349              ETANOL        5.240  2022    7  \n",
       "\n",
       "[457118 rows x 9 columns]"
      ]
     },
     "execution_count": 49,
     "metadata": {},
     "output_type": "execute_result"
    }
   ],
   "source": [
    "df_anp"
   ]
  },
  {
   "cell_type": "code",
   "execution_count": 50,
   "metadata": {},
   "outputs": [
    {
     "data": {
      "text/html": [
       "<div>\n",
       "<style scoped>\n",
       "    .dataframe tbody tr th:only-of-type {\n",
       "        vertical-align: middle;\n",
       "    }\n",
       "\n",
       "    .dataframe tbody tr th {\n",
       "        vertical-align: top;\n",
       "    }\n",
       "\n",
       "    .dataframe thead th {\n",
       "        text-align: right;\n",
       "    }\n",
       "</style>\n",
       "<table border=\"1\" class=\"dataframe\">\n",
       "  <thead>\n",
       "    <tr style=\"text-align: right;\">\n",
       "      <th></th>\n",
       "      <th>valor_venda</th>\n",
       "      <th>ano</th>\n",
       "      <th>mes</th>\n",
       "    </tr>\n",
       "  </thead>\n",
       "  <tbody>\n",
       "    <tr>\n",
       "      <th>count</th>\n",
       "      <td>457118.00</td>\n",
       "      <td>457118.00</td>\n",
       "      <td>457118.00</td>\n",
       "    </tr>\n",
       "    <tr>\n",
       "      <th>mean</th>\n",
       "      <td>4.68</td>\n",
       "      <td>2020.29</td>\n",
       "      <td>3.62</td>\n",
       "    </tr>\n",
       "    <tr>\n",
       "      <th>std</th>\n",
       "      <td>1.29</td>\n",
       "      <td>1.58</td>\n",
       "      <td>2.93</td>\n",
       "    </tr>\n",
       "    <tr>\n",
       "      <th>min</th>\n",
       "      <td>1.76</td>\n",
       "      <td>2018.00</td>\n",
       "      <td>1.00</td>\n",
       "    </tr>\n",
       "    <tr>\n",
       "      <th>25%</th>\n",
       "      <td>3.65</td>\n",
       "      <td>2018.00</td>\n",
       "      <td>1.00</td>\n",
       "    </tr>\n",
       "    <tr>\n",
       "      <th>50%</th>\n",
       "      <td>4.48</td>\n",
       "      <td>2021.00</td>\n",
       "      <td>1.00</td>\n",
       "    </tr>\n",
       "    <tr>\n",
       "      <th>75%</th>\n",
       "      <td>5.59</td>\n",
       "      <td>2022.00</td>\n",
       "      <td>7.00</td>\n",
       "    </tr>\n",
       "    <tr>\n",
       "      <th>max</th>\n",
       "      <td>9.28</td>\n",
       "      <td>2022.00</td>\n",
       "      <td>7.00</td>\n",
       "    </tr>\n",
       "  </tbody>\n",
       "</table>\n",
       "</div>"
      ],
      "text/plain": [
       "       valor_venda        ano        mes\n",
       "count    457118.00  457118.00  457118.00\n",
       "mean          4.68    2020.29       3.62\n",
       "std           1.29       1.58       2.93\n",
       "min           1.76    2018.00       1.00\n",
       "25%           3.65    2018.00       1.00\n",
       "50%           4.48    2021.00       1.00\n",
       "75%           5.59    2022.00       7.00\n",
       "max           9.28    2022.00       7.00"
      ]
     },
     "execution_count": 50,
     "metadata": {},
     "output_type": "execute_result"
    }
   ],
   "source": [
    "df_anp.describe().round(2)"
   ]
  },
  {
   "cell_type": "code",
   "execution_count": 53,
   "metadata": {},
   "outputs": [
    {
     "name": "stdout",
     "output_type": "stream",
     "text": [
      "Os produtos comercializados são: ['GNV' 'DIESEL S10' 'ETANOL' 'GASOLINA' 'DIESEL' 'GASOLINA ADITIVADA']\n"
     ]
    }
   ],
   "source": [
    "print(f'Os produtos comercializados são: {df_anp.produto.unique()}')"
   ]
  },
  {
   "cell_type": "code",
   "execution_count": 54,
   "metadata": {},
   "outputs": [
    {
     "name": "stdout",
     "output_type": "stream",
     "text": [
      "Os anos da Base: [2018 2020 2021 2022]\n"
     ]
    }
   ],
   "source": [
    "print(f'Os anos da Base: {df_anp.ano.unique()}')"
   ]
  },
  {
   "cell_type": "code",
   "execution_count": 56,
   "metadata": {},
   "outputs": [
    {
     "data": {
      "text/html": [
       "<div>\n",
       "<style scoped>\n",
       "    .dataframe tbody tr th:only-of-type {\n",
       "        vertical-align: middle;\n",
       "    }\n",
       "\n",
       "    .dataframe tbody tr th {\n",
       "        vertical-align: top;\n",
       "    }\n",
       "\n",
       "    .dataframe thead th {\n",
       "        text-align: right;\n",
       "    }\n",
       "</style>\n",
       "<table border=\"1\" class=\"dataframe\">\n",
       "  <thead>\n",
       "    <tr style=\"text-align: right;\">\n",
       "      <th></th>\n",
       "      <th>ano</th>\n",
       "      <th>produto</th>\n",
       "      <th>valor_venda</th>\n",
       "    </tr>\n",
       "  </thead>\n",
       "  <tbody>\n",
       "    <tr>\n",
       "      <th>0</th>\n",
       "      <td>2018</td>\n",
       "      <td>GNV</td>\n",
       "      <td>2.370</td>\n",
       "    </tr>\n",
       "    <tr>\n",
       "      <th>1</th>\n",
       "      <td>2018</td>\n",
       "      <td>DIESEL S10</td>\n",
       "      <td>3.240</td>\n",
       "    </tr>\n",
       "    <tr>\n",
       "      <th>2</th>\n",
       "      <td>2018</td>\n",
       "      <td>ETANOL</td>\n",
       "      <td>2.930</td>\n",
       "    </tr>\n",
       "    <tr>\n",
       "      <th>3</th>\n",
       "      <td>2018</td>\n",
       "      <td>GASOLINA</td>\n",
       "      <td>3.620</td>\n",
       "    </tr>\n",
       "    <tr>\n",
       "      <th>4</th>\n",
       "      <td>2018</td>\n",
       "      <td>GNV</td>\n",
       "      <td>2.699</td>\n",
       "    </tr>\n",
       "    <tr>\n",
       "      <th>...</th>\n",
       "      <td>...</td>\n",
       "      <td>...</td>\n",
       "      <td>...</td>\n",
       "    </tr>\n",
       "    <tr>\n",
       "      <th>655345</th>\n",
       "      <td>2022</td>\n",
       "      <td>DIESEL</td>\n",
       "      <td>7.750</td>\n",
       "    </tr>\n",
       "    <tr>\n",
       "      <th>655346</th>\n",
       "      <td>2022</td>\n",
       "      <td>GASOLINA ADITIVADA</td>\n",
       "      <td>5.980</td>\n",
       "    </tr>\n",
       "    <tr>\n",
       "      <th>655347</th>\n",
       "      <td>2022</td>\n",
       "      <td>DIESEL S10</td>\n",
       "      <td>7.890</td>\n",
       "    </tr>\n",
       "    <tr>\n",
       "      <th>655348</th>\n",
       "      <td>2022</td>\n",
       "      <td>GASOLINA</td>\n",
       "      <td>5.960</td>\n",
       "    </tr>\n",
       "    <tr>\n",
       "      <th>655349</th>\n",
       "      <td>2022</td>\n",
       "      <td>ETANOL</td>\n",
       "      <td>5.240</td>\n",
       "    </tr>\n",
       "  </tbody>\n",
       "</table>\n",
       "<p>457118 rows × 3 columns</p>\n",
       "</div>"
      ],
      "text/plain": [
       "         ano             produto  valor_venda\n",
       "0       2018                 GNV        2.370\n",
       "1       2018          DIESEL S10        3.240\n",
       "2       2018              ETANOL        2.930\n",
       "3       2018            GASOLINA        3.620\n",
       "4       2018                 GNV        2.699\n",
       "...      ...                 ...          ...\n",
       "655345  2022              DIESEL        7.750\n",
       "655346  2022  GASOLINA ADITIVADA        5.980\n",
       "655347  2022          DIESEL S10        7.890\n",
       "655348  2022            GASOLINA        5.960\n",
       "655349  2022              ETANOL        5.240\n",
       "\n",
       "[457118 rows x 3 columns]"
      ]
     },
     "execution_count": 56,
     "metadata": {},
     "output_type": "execute_result"
    }
   ],
   "source": [
    "df_anp_valor = df_anp[['ano', 'produto', 'valor_venda']]\n",
    "df_anp_valor"
   ]
  },
  {
   "cell_type": "code",
   "execution_count": 58,
   "metadata": {},
   "outputs": [
    {
     "data": {
      "text/html": [
       "<div>\n",
       "<style scoped>\n",
       "    .dataframe tbody tr th:only-of-type {\n",
       "        vertical-align: middle;\n",
       "    }\n",
       "\n",
       "    .dataframe tbody tr th {\n",
       "        vertical-align: top;\n",
       "    }\n",
       "\n",
       "    .dataframe thead tr th {\n",
       "        text-align: left;\n",
       "    }\n",
       "\n",
       "    .dataframe thead tr:last-of-type th {\n",
       "        text-align: right;\n",
       "    }\n",
       "</style>\n",
       "<table border=\"1\" class=\"dataframe\">\n",
       "  <thead>\n",
       "    <tr>\n",
       "      <th></th>\n",
       "      <th></th>\n",
       "      <th colspan=\"3\" halign=\"left\">valor_venda</th>\n",
       "    </tr>\n",
       "    <tr>\n",
       "      <th></th>\n",
       "      <th></th>\n",
       "      <th>min</th>\n",
       "      <th>max</th>\n",
       "      <th>mean</th>\n",
       "    </tr>\n",
       "    <tr>\n",
       "      <th>produto</th>\n",
       "      <th>ano</th>\n",
       "      <th></th>\n",
       "      <th></th>\n",
       "      <th></th>\n",
       "    </tr>\n",
       "  </thead>\n",
       "  <tbody>\n",
       "    <tr>\n",
       "      <th rowspan=\"4\" valign=\"top\">DIESEL</th>\n",
       "      <th>2018</th>\n",
       "      <td>2.80</td>\n",
       "      <td>4.49</td>\n",
       "      <td>3.39</td>\n",
       "    </tr>\n",
       "    <tr>\n",
       "      <th>2020</th>\n",
       "      <td>3.30</td>\n",
       "      <td>5.01</td>\n",
       "      <td>3.80</td>\n",
       "    </tr>\n",
       "    <tr>\n",
       "      <th>2021</th>\n",
       "      <td>3.20</td>\n",
       "      <td>6.40</td>\n",
       "      <td>4.20</td>\n",
       "    </tr>\n",
       "    <tr>\n",
       "      <th>2022</th>\n",
       "      <td>4.07</td>\n",
       "      <td>8.99</td>\n",
       "      <td>6.50</td>\n",
       "    </tr>\n",
       "    <tr>\n",
       "      <th rowspan=\"4\" valign=\"top\">DIESEL S10</th>\n",
       "      <th>2018</th>\n",
       "      <td>2.93</td>\n",
       "      <td>4.60</td>\n",
       "      <td>3.48</td>\n",
       "    </tr>\n",
       "    <tr>\n",
       "      <th>2020</th>\n",
       "      <td>3.38</td>\n",
       "      <td>5.15</td>\n",
       "      <td>3.87</td>\n",
       "    </tr>\n",
       "    <tr>\n",
       "      <th>2021</th>\n",
       "      <td>3.24</td>\n",
       "      <td>6.20</td>\n",
       "      <td>4.24</td>\n",
       "    </tr>\n",
       "    <tr>\n",
       "      <th>2022</th>\n",
       "      <td>4.54</td>\n",
       "      <td>9.00</td>\n",
       "      <td>6.59</td>\n",
       "    </tr>\n",
       "    <tr>\n",
       "      <th rowspan=\"4\" valign=\"top\">ETANOL</th>\n",
       "      <th>2018</th>\n",
       "      <td>1.99</td>\n",
       "      <td>4.95</td>\n",
       "      <td>3.12</td>\n",
       "    </tr>\n",
       "    <tr>\n",
       "      <th>2020</th>\n",
       "      <td>2.48</td>\n",
       "      <td>5.10</td>\n",
       "      <td>3.42</td>\n",
       "    </tr>\n",
       "    <tr>\n",
       "      <th>2021</th>\n",
       "      <td>2.05</td>\n",
       "      <td>7.00</td>\n",
       "      <td>4.02</td>\n",
       "    </tr>\n",
       "    <tr>\n",
       "      <th>2022</th>\n",
       "      <td>3.39</td>\n",
       "      <td>7.89</td>\n",
       "      <td>5.05</td>\n",
       "    </tr>\n",
       "    <tr>\n",
       "      <th rowspan=\"4\" valign=\"top\">GASOLINA</th>\n",
       "      <th>2018</th>\n",
       "      <td>3.50</td>\n",
       "      <td>5.60</td>\n",
       "      <td>4.37</td>\n",
       "    </tr>\n",
       "    <tr>\n",
       "      <th>2020</th>\n",
       "      <td>3.80</td>\n",
       "      <td>5.90</td>\n",
       "      <td>4.62</td>\n",
       "    </tr>\n",
       "    <tr>\n",
       "      <th>2021</th>\n",
       "      <td>3.10</td>\n",
       "      <td>6.99</td>\n",
       "      <td>5.23</td>\n",
       "    </tr>\n",
       "    <tr>\n",
       "      <th>2022</th>\n",
       "      <td>5.06</td>\n",
       "      <td>8.52</td>\n",
       "      <td>6.40</td>\n",
       "    </tr>\n",
       "    <tr>\n",
       "      <th rowspan=\"2\" valign=\"top\">GASOLINA ADITIVADA</th>\n",
       "      <th>2021</th>\n",
       "      <td>3.52</td>\n",
       "      <td>7.10</td>\n",
       "      <td>5.37</td>\n",
       "    </tr>\n",
       "    <tr>\n",
       "      <th>2022</th>\n",
       "      <td>5.28</td>\n",
       "      <td>9.28</td>\n",
       "      <td>6.56</td>\n",
       "    </tr>\n",
       "    <tr>\n",
       "      <th rowspan=\"4\" valign=\"top\">GNV</th>\n",
       "      <th>2018</th>\n",
       "      <td>1.76</td>\n",
       "      <td>3.60</td>\n",
       "      <td>2.59</td>\n",
       "    </tr>\n",
       "    <tr>\n",
       "      <th>2020</th>\n",
       "      <td>2.20</td>\n",
       "      <td>4.15</td>\n",
       "      <td>3.27</td>\n",
       "    </tr>\n",
       "    <tr>\n",
       "      <th>2021</th>\n",
       "      <td>2.50</td>\n",
       "      <td>5.65</td>\n",
       "      <td>3.55</td>\n",
       "    </tr>\n",
       "    <tr>\n",
       "      <th>2022</th>\n",
       "      <td>3.17</td>\n",
       "      <td>6.99</td>\n",
       "      <td>4.89</td>\n",
       "    </tr>\n",
       "  </tbody>\n",
       "</table>\n",
       "</div>"
      ],
      "text/plain": [
       "                        valor_venda            \n",
       "                                min   max  mean\n",
       "produto            ano                         \n",
       "DIESEL             2018        2.80  4.49  3.39\n",
       "                   2020        3.30  5.01  3.80\n",
       "                   2021        3.20  6.40  4.20\n",
       "                   2022        4.07  8.99  6.50\n",
       "DIESEL S10         2018        2.93  4.60  3.48\n",
       "                   2020        3.38  5.15  3.87\n",
       "                   2021        3.24  6.20  4.24\n",
       "                   2022        4.54  9.00  6.59\n",
       "ETANOL             2018        1.99  4.95  3.12\n",
       "                   2020        2.48  5.10  3.42\n",
       "                   2021        2.05  7.00  4.02\n",
       "                   2022        3.39  7.89  5.05\n",
       "GASOLINA           2018        3.50  5.60  4.37\n",
       "                   2020        3.80  5.90  4.62\n",
       "                   2021        3.10  6.99  5.23\n",
       "                   2022        5.06  8.52  6.40\n",
       "GASOLINA ADITIVADA 2021        3.52  7.10  5.37\n",
       "                   2022        5.28  9.28  6.56\n",
       "GNV                2018        1.76  3.60  2.59\n",
       "                   2020        2.20  4.15  3.27\n",
       "                   2021        2.50  5.65  3.55\n",
       "                   2022        3.17  6.99  4.89"
      ]
     },
     "execution_count": 58,
     "metadata": {},
     "output_type": "execute_result"
    }
   ],
   "source": [
    "df_anp_valor.groupby(['produto', 'ano']).agg(['min', 'max', 'mean']).round(2)"
   ]
  },
  {
   "cell_type": "code",
   "execution_count": 60,
   "metadata": {},
   "outputs": [
    {
     "data": {
      "text/html": [
       "<div>\n",
       "<style scoped>\n",
       "    .dataframe tbody tr th:only-of-type {\n",
       "        vertical-align: middle;\n",
       "    }\n",
       "\n",
       "    .dataframe tbody tr th {\n",
       "        vertical-align: top;\n",
       "    }\n",
       "\n",
       "    .dataframe thead th {\n",
       "        text-align: right;\n",
       "    }\n",
       "</style>\n",
       "<table border=\"1\" class=\"dataframe\">\n",
       "  <thead>\n",
       "    <tr style=\"text-align: right;\">\n",
       "      <th></th>\n",
       "      <th>ano</th>\n",
       "      <th>produto</th>\n",
       "      <th>estado</th>\n",
       "      <th>valor_venda</th>\n",
       "    </tr>\n",
       "  </thead>\n",
       "  <tbody>\n",
       "    <tr>\n",
       "      <th>0</th>\n",
       "      <td>2018</td>\n",
       "      <td>GNV</td>\n",
       "      <td>BA</td>\n",
       "      <td>2.370</td>\n",
       "    </tr>\n",
       "    <tr>\n",
       "      <th>1</th>\n",
       "      <td>2018</td>\n",
       "      <td>DIESEL S10</td>\n",
       "      <td>BA</td>\n",
       "      <td>3.240</td>\n",
       "    </tr>\n",
       "    <tr>\n",
       "      <th>2</th>\n",
       "      <td>2018</td>\n",
       "      <td>ETANOL</td>\n",
       "      <td>BA</td>\n",
       "      <td>2.930</td>\n",
       "    </tr>\n",
       "    <tr>\n",
       "      <th>3</th>\n",
       "      <td>2018</td>\n",
       "      <td>GASOLINA</td>\n",
       "      <td>BA</td>\n",
       "      <td>3.620</td>\n",
       "    </tr>\n",
       "    <tr>\n",
       "      <th>4</th>\n",
       "      <td>2018</td>\n",
       "      <td>GNV</td>\n",
       "      <td>RS</td>\n",
       "      <td>2.699</td>\n",
       "    </tr>\n",
       "    <tr>\n",
       "      <th>...</th>\n",
       "      <td>...</td>\n",
       "      <td>...</td>\n",
       "      <td>...</td>\n",
       "      <td>...</td>\n",
       "    </tr>\n",
       "    <tr>\n",
       "      <th>655345</th>\n",
       "      <td>2022</td>\n",
       "      <td>DIESEL</td>\n",
       "      <td>BA</td>\n",
       "      <td>7.750</td>\n",
       "    </tr>\n",
       "    <tr>\n",
       "      <th>655346</th>\n",
       "      <td>2022</td>\n",
       "      <td>GASOLINA ADITIVADA</td>\n",
       "      <td>BA</td>\n",
       "      <td>5.980</td>\n",
       "    </tr>\n",
       "    <tr>\n",
       "      <th>655347</th>\n",
       "      <td>2022</td>\n",
       "      <td>DIESEL S10</td>\n",
       "      <td>BA</td>\n",
       "      <td>7.890</td>\n",
       "    </tr>\n",
       "    <tr>\n",
       "      <th>655348</th>\n",
       "      <td>2022</td>\n",
       "      <td>GASOLINA</td>\n",
       "      <td>BA</td>\n",
       "      <td>5.960</td>\n",
       "    </tr>\n",
       "    <tr>\n",
       "      <th>655349</th>\n",
       "      <td>2022</td>\n",
       "      <td>ETANOL</td>\n",
       "      <td>BA</td>\n",
       "      <td>5.240</td>\n",
       "    </tr>\n",
       "  </tbody>\n",
       "</table>\n",
       "<p>457118 rows × 4 columns</p>\n",
       "</div>"
      ],
      "text/plain": [
       "         ano             produto estado  valor_venda\n",
       "0       2018                 GNV     BA        2.370\n",
       "1       2018          DIESEL S10     BA        3.240\n",
       "2       2018              ETANOL     BA        2.930\n",
       "3       2018            GASOLINA     BA        3.620\n",
       "4       2018                 GNV     RS        2.699\n",
       "...      ...                 ...    ...          ...\n",
       "655345  2022              DIESEL     BA        7.750\n",
       "655346  2022  GASOLINA ADITIVADA     BA        5.980\n",
       "655347  2022          DIESEL S10     BA        7.890\n",
       "655348  2022            GASOLINA     BA        5.960\n",
       "655349  2022              ETANOL     BA        5.240\n",
       "\n",
       "[457118 rows x 4 columns]"
      ]
     },
     "execution_count": 60,
     "metadata": {},
     "output_type": "execute_result"
    }
   ],
   "source": [
    "df_anp_valor_estado = df_anp[['ano', 'produto', 'estado', 'valor_venda']]\n",
    "df_anp_valor_estado"
   ]
  },
  {
   "cell_type": "code",
   "execution_count": 61,
   "metadata": {},
   "outputs": [
    {
     "data": {
      "text/html": [
       "<div>\n",
       "<style scoped>\n",
       "    .dataframe tbody tr th:only-of-type {\n",
       "        vertical-align: middle;\n",
       "    }\n",
       "\n",
       "    .dataframe tbody tr th {\n",
       "        vertical-align: top;\n",
       "    }\n",
       "\n",
       "    .dataframe thead tr th {\n",
       "        text-align: left;\n",
       "    }\n",
       "\n",
       "    .dataframe thead tr:last-of-type th {\n",
       "        text-align: right;\n",
       "    }\n",
       "</style>\n",
       "<table border=\"1\" class=\"dataframe\">\n",
       "  <thead>\n",
       "    <tr>\n",
       "      <th></th>\n",
       "      <th></th>\n",
       "      <th></th>\n",
       "      <th colspan=\"3\" halign=\"left\">valor_venda</th>\n",
       "    </tr>\n",
       "    <tr>\n",
       "      <th></th>\n",
       "      <th></th>\n",
       "      <th></th>\n",
       "      <th>min</th>\n",
       "      <th>max</th>\n",
       "      <th>mean</th>\n",
       "    </tr>\n",
       "    <tr>\n",
       "      <th>produto</th>\n",
       "      <th>ano</th>\n",
       "      <th>estado</th>\n",
       "      <th></th>\n",
       "      <th></th>\n",
       "      <th></th>\n",
       "    </tr>\n",
       "  </thead>\n",
       "  <tbody>\n",
       "    <tr>\n",
       "      <th rowspan=\"5\" valign=\"top\">DIESEL</th>\n",
       "      <th rowspan=\"5\" valign=\"top\">2018</th>\n",
       "      <th>AC</th>\n",
       "      <td>3.38</td>\n",
       "      <td>4.49</td>\n",
       "      <td>4.17</td>\n",
       "    </tr>\n",
       "    <tr>\n",
       "      <th>AL</th>\n",
       "      <td>3.10</td>\n",
       "      <td>3.91</td>\n",
       "      <td>3.45</td>\n",
       "    </tr>\n",
       "    <tr>\n",
       "      <th>AM</th>\n",
       "      <td>3.09</td>\n",
       "      <td>3.95</td>\n",
       "      <td>3.48</td>\n",
       "    </tr>\n",
       "    <tr>\n",
       "      <th>AP</th>\n",
       "      <td>3.29</td>\n",
       "      <td>3.99</td>\n",
       "      <td>3.77</td>\n",
       "    </tr>\n",
       "    <tr>\n",
       "      <th>BA</th>\n",
       "      <td>2.99</td>\n",
       "      <td>3.99</td>\n",
       "      <td>3.38</td>\n",
       "    </tr>\n",
       "    <tr>\n",
       "      <th>...</th>\n",
       "      <th>...</th>\n",
       "      <th>...</th>\n",
       "      <td>...</td>\n",
       "      <td>...</td>\n",
       "      <td>...</td>\n",
       "    </tr>\n",
       "    <tr>\n",
       "      <th rowspan=\"5\" valign=\"top\">GNV</th>\n",
       "      <th rowspan=\"5\" valign=\"top\">2022</th>\n",
       "      <th>RN</th>\n",
       "      <td>4.39</td>\n",
       "      <td>4.99</td>\n",
       "      <td>4.67</td>\n",
       "    </tr>\n",
       "    <tr>\n",
       "      <th>RS</th>\n",
       "      <td>4.59</td>\n",
       "      <td>6.88</td>\n",
       "      <td>5.69</td>\n",
       "    </tr>\n",
       "    <tr>\n",
       "      <th>SC</th>\n",
       "      <td>4.00</td>\n",
       "      <td>6.59</td>\n",
       "      <td>5.54</td>\n",
       "    </tr>\n",
       "    <tr>\n",
       "      <th>SE</th>\n",
       "      <td>4.48</td>\n",
       "      <td>5.16</td>\n",
       "      <td>4.81</td>\n",
       "    </tr>\n",
       "    <tr>\n",
       "      <th>SP</th>\n",
       "      <td>4.08</td>\n",
       "      <td>6.49</td>\n",
       "      <td>5.03</td>\n",
       "    </tr>\n",
       "  </tbody>\n",
       "</table>\n",
       "<p>557 rows × 3 columns</p>\n",
       "</div>"
      ],
      "text/plain": [
       "                    valor_venda            \n",
       "                            min   max  mean\n",
       "produto ano  estado                        \n",
       "DIESEL  2018 AC            3.38  4.49  4.17\n",
       "             AL            3.10  3.91  3.45\n",
       "             AM            3.09  3.95  3.48\n",
       "             AP            3.29  3.99  3.77\n",
       "             BA            2.99  3.99  3.38\n",
       "...                         ...   ...   ...\n",
       "GNV     2022 RN            4.39  4.99  4.67\n",
       "             RS            4.59  6.88  5.69\n",
       "             SC            4.00  6.59  5.54\n",
       "             SE            4.48  5.16  4.81\n",
       "             SP            4.08  6.49  5.03\n",
       "\n",
       "[557 rows x 3 columns]"
      ]
     },
     "execution_count": 61,
     "metadata": {},
     "output_type": "execute_result"
    }
   ],
   "source": [
    "df_anp_valor_estado.groupby(['produto', 'ano', 'estado']).agg(['min', 'max', 'mean']).round(2)"
   ]
  },
  {
   "cell_type": "code",
   "execution_count": 62,
   "metadata": {},
   "outputs": [
    {
     "data": {
      "text/html": [
       "<div>\n",
       "<style scoped>\n",
       "    .dataframe tbody tr th:only-of-type {\n",
       "        vertical-align: middle;\n",
       "    }\n",
       "\n",
       "    .dataframe tbody tr th {\n",
       "        vertical-align: top;\n",
       "    }\n",
       "\n",
       "    .dataframe thead th {\n",
       "        text-align: right;\n",
       "    }\n",
       "</style>\n",
       "<table border=\"1\" class=\"dataframe\">\n",
       "  <thead>\n",
       "    <tr style=\"text-align: right;\">\n",
       "      <th></th>\n",
       "      <th>ano</th>\n",
       "      <th>bandeira</th>\n",
       "      <th>produto</th>\n",
       "    </tr>\n",
       "  </thead>\n",
       "  <tbody>\n",
       "    <tr>\n",
       "      <th>0</th>\n",
       "      <td>2018</td>\n",
       "      <td>PETROBRAS DISTRIBUIDORA S.A.</td>\n",
       "      <td>GNV</td>\n",
       "    </tr>\n",
       "    <tr>\n",
       "      <th>1</th>\n",
       "      <td>2018</td>\n",
       "      <td>PETROBRAS DISTRIBUIDORA S.A.</td>\n",
       "      <td>DIESEL S10</td>\n",
       "    </tr>\n",
       "    <tr>\n",
       "      <th>2</th>\n",
       "      <td>2018</td>\n",
       "      <td>PETROBRAS DISTRIBUIDORA S.A.</td>\n",
       "      <td>ETANOL</td>\n",
       "    </tr>\n",
       "    <tr>\n",
       "      <th>3</th>\n",
       "      <td>2018</td>\n",
       "      <td>PETROBRAS DISTRIBUIDORA S.A.</td>\n",
       "      <td>GASOLINA</td>\n",
       "    </tr>\n",
       "    <tr>\n",
       "      <th>4</th>\n",
       "      <td>2018</td>\n",
       "      <td>BRANCA</td>\n",
       "      <td>GNV</td>\n",
       "    </tr>\n",
       "    <tr>\n",
       "      <th>...</th>\n",
       "      <td>...</td>\n",
       "      <td>...</td>\n",
       "      <td>...</td>\n",
       "    </tr>\n",
       "    <tr>\n",
       "      <th>655345</th>\n",
       "      <td>2022</td>\n",
       "      <td>BRANCA</td>\n",
       "      <td>DIESEL</td>\n",
       "    </tr>\n",
       "    <tr>\n",
       "      <th>655346</th>\n",
       "      <td>2022</td>\n",
       "      <td>BRANCA</td>\n",
       "      <td>GASOLINA ADITIVADA</td>\n",
       "    </tr>\n",
       "    <tr>\n",
       "      <th>655347</th>\n",
       "      <td>2022</td>\n",
       "      <td>BRANCA</td>\n",
       "      <td>DIESEL S10</td>\n",
       "    </tr>\n",
       "    <tr>\n",
       "      <th>655348</th>\n",
       "      <td>2022</td>\n",
       "      <td>BRANCA</td>\n",
       "      <td>GASOLINA</td>\n",
       "    </tr>\n",
       "    <tr>\n",
       "      <th>655349</th>\n",
       "      <td>2022</td>\n",
       "      <td>BRANCA</td>\n",
       "      <td>ETANOL</td>\n",
       "    </tr>\n",
       "  </tbody>\n",
       "</table>\n",
       "<p>457118 rows × 3 columns</p>\n",
       "</div>"
      ],
      "text/plain": [
       "         ano                      bandeira             produto\n",
       "0       2018  PETROBRAS DISTRIBUIDORA S.A.                 GNV\n",
       "1       2018  PETROBRAS DISTRIBUIDORA S.A.          DIESEL S10\n",
       "2       2018  PETROBRAS DISTRIBUIDORA S.A.              ETANOL\n",
       "3       2018  PETROBRAS DISTRIBUIDORA S.A.            GASOLINA\n",
       "4       2018                        BRANCA                 GNV\n",
       "...      ...                           ...                 ...\n",
       "655345  2022                        BRANCA              DIESEL\n",
       "655346  2022                        BRANCA  GASOLINA ADITIVADA\n",
       "655347  2022                        BRANCA          DIESEL S10\n",
       "655348  2022                        BRANCA            GASOLINA\n",
       "655349  2022                        BRANCA              ETANOL\n",
       "\n",
       "[457118 rows x 3 columns]"
      ]
     },
     "execution_count": 62,
     "metadata": {},
     "output_type": "execute_result"
    }
   ],
   "source": [
    "df_anp_bandeira = df_anp[['ano', 'bandeira', 'produto']]\n",
    "df_anp_bandeira"
   ]
  },
  {
   "cell_type": "code",
   "execution_count": 64,
   "metadata": {},
   "outputs": [
    {
     "data": {
      "text/plain": [
       "ano   produto           \n",
       "2018  DIESEL                56\n",
       "      DIESEL S10            61\n",
       "      ETANOL                62\n",
       "      GASOLINA              62\n",
       "      GNV                   19\n",
       "2020  DIESEL                47\n",
       "      DIESEL S10            50\n",
       "      ETANOL                51\n",
       "      GASOLINA              51\n",
       "      GNV                   17\n",
       "2021  DIESEL                47\n",
       "      DIESEL S10            51\n",
       "      ETANOL                52\n",
       "      GASOLINA              52\n",
       "      GASOLINA ADITIVADA    51\n",
       "      GNV                   18\n",
       "2022  DIESEL                45\n",
       "      DIESEL S10            50\n",
       "      ETANOL                49\n",
       "      GASOLINA              50\n",
       "      GASOLINA ADITIVADA    49\n",
       "      GNV                   21\n",
       "Name: bandeira, dtype: int64"
      ]
     },
     "execution_count": 64,
     "metadata": {},
     "output_type": "execute_result"
    }
   ],
   "source": [
    "df_anp_bandeira.groupby(['ano', 'produto']).bandeira.nunique()"
   ]
  },
  {
   "cell_type": "code",
   "execution_count": 65,
   "metadata": {},
   "outputs": [
    {
     "data": {
      "text/plain": [
       "ano   produto           \n",
       "2018  DIESEL                [BRANCA, PETROBRAS DISTRIBUIDORA S.A., EQUADOR...\n",
       "      DIESEL S10            [PETROBRAS DISTRIBUIDORA S.A., BRANCA, RODOIL,...\n",
       "      ETANOL                [PETROBRAS DISTRIBUIDORA S.A., BRANCA, RODOIL,...\n",
       "      GASOLINA              [PETROBRAS DISTRIBUIDORA S.A., BRANCA, RODOIL,...\n",
       "      GNV                   [PETROBRAS DISTRIBUIDORA S.A., BRANCA, RAIZEN,...\n",
       "2020  DIESEL                [PETROBRAS DISTRIBUIDORA S.A., BRANCA, SABBÁ, ...\n",
       "      DIESEL S10            [PETROBRAS DISTRIBUIDORA S.A., RODOIL, BRANCA,...\n",
       "      ETANOL                [PETROBRAS DISTRIBUIDORA S.A., RODOIL, BRANCA,...\n",
       "      GASOLINA              [PETROBRAS DISTRIBUIDORA S.A., RODOIL, BRANCA,...\n",
       "      GNV                   [PETROBRAS DISTRIBUIDORA S.A., BRANCA, RAIZEN,...\n",
       "2021  DIESEL                [BRANCA, IPIRANGA, RAIZEN, PETROBRAS DISTRIBUI...\n",
       "      DIESEL S10            [BRANCA, IPIRANGA, RAIZEN, PETROBRAS DISTRIBUI...\n",
       "      ETANOL                [BRANCA, PETROBRAS DISTRIBUIDORA S.A., RAIZEN,...\n",
       "      GASOLINA              [BRANCA, IPIRANGA, RAIZEN, PETROBRAS DISTRIBUI...\n",
       "      GASOLINA ADITIVADA    [BRANCA, IPIRANGA, RAIZEN, PETROBRAS DISTRIBUI...\n",
       "      GNV                   [BRANCA, RAIZEN, IPIRANGA, PETROBRAS DISTRIBUI...\n",
       "2022  DIESEL                [BRANCA, VIBRA ENERGIA, SABBÁ, ATEM' S, RAIZEN...\n",
       "      DIESEL S10            [VIBRA ENERGIA, BRANCA, SABBÁ, ATEM' S, RAIZEN...\n",
       "      ETANOL                [VIBRA ENERGIA, BRANCA, SP, RAIZEN, IPIRANGA, ...\n",
       "      GASOLINA              [VIBRA ENERGIA, BRANCA, SABBÁ, ATEM' S, RAIZEN...\n",
       "      GASOLINA ADITIVADA    [VIBRA ENERGIA, BRANCA, SABBÁ, ATEM' S, RAIZEN...\n",
       "      GNV                   [RAIZEN, VIBRA ENERGIA, IPIRANGA, BRANCA, PETR...\n",
       "Name: bandeira, dtype: object"
      ]
     },
     "execution_count": 65,
     "metadata": {},
     "output_type": "execute_result"
    }
   ],
   "source": [
    "df_anp_bandeira.groupby(['ano', 'produto']).bandeira.unique()"
   ]
  },
  {
   "cell_type": "code",
   "execution_count": 66,
   "metadata": {},
   "outputs": [
    {
     "name": "stdout",
     "output_type": "stream",
     "text": [
      "Requirement already satisfied: matplotlib in c:\\users\\usuario\\anaconda3\\lib\\site-packages (3.7.0)\n",
      "Requirement already satisfied: fonttools>=4.22.0 in c:\\users\\usuario\\anaconda3\\lib\\site-packages (from matplotlib) (4.25.0)\n",
      "Requirement already satisfied: numpy>=1.20 in c:\\users\\usuario\\anaconda3\\lib\\site-packages (from matplotlib) (1.23.5)\n",
      "Requirement already satisfied: cycler>=0.10 in c:\\users\\usuario\\anaconda3\\lib\\site-packages (from matplotlib) (0.11.0)\n",
      "Requirement already satisfied: packaging>=20.0 in c:\\users\\usuario\\anaconda3\\lib\\site-packages (from matplotlib) (22.0)\n",
      "Requirement already satisfied: kiwisolver>=1.0.1 in c:\\users\\usuario\\anaconda3\\lib\\site-packages (from matplotlib) (1.4.4)\n",
      "Requirement already satisfied: pillow>=6.2.0 in c:\\users\\usuario\\anaconda3\\lib\\site-packages (from matplotlib) (9.4.0)\n",
      "Requirement already satisfied: pyparsing>=2.3.1 in c:\\users\\usuario\\anaconda3\\lib\\site-packages (from matplotlib) (3.0.9)\n",
      "Requirement already satisfied: contourpy>=1.0.1 in c:\\users\\usuario\\anaconda3\\lib\\site-packages (from matplotlib) (1.0.5)\n",
      "Requirement already satisfied: python-dateutil>=2.7 in c:\\users\\usuario\\anaconda3\\lib\\site-packages (from matplotlib) (2.8.2)\n",
      "Requirement already satisfied: six>=1.5 in c:\\users\\usuario\\anaconda3\\lib\\site-packages (from python-dateutil>=2.7->matplotlib) (1.16.0)\n",
      "Note: you may need to restart the kernel to use updated packages.\n"
     ]
    }
   ],
   "source": [
    "pip install matplotlib"
   ]
  },
  {
   "cell_type": "code",
   "execution_count": 67,
   "metadata": {},
   "outputs": [
    {
     "name": "stdout",
     "output_type": "stream",
     "text": [
      "Requirement already satisfied: seaborn in c:\\users\\usuario\\anaconda3\\lib\\site-packages (0.12.2)\n",
      "Requirement already satisfied: pandas>=0.25 in c:\\users\\usuario\\anaconda3\\lib\\site-packages (from seaborn) (1.5.3)\n",
      "Requirement already satisfied: numpy!=1.24.0,>=1.17 in c:\\users\\usuario\\anaconda3\\lib\\site-packages (from seaborn) (1.23.5)\n",
      "Requirement already satisfied: matplotlib!=3.6.1,>=3.1 in c:\\users\\usuario\\anaconda3\\lib\\site-packages (from seaborn) (3.7.0)\n",
      "Requirement already satisfied: kiwisolver>=1.0.1 in c:\\users\\usuario\\anaconda3\\lib\\site-packages (from matplotlib!=3.6.1,>=3.1->seaborn) (1.4.4)\n",
      "Requirement already satisfied: pyparsing>=2.3.1 in c:\\users\\usuario\\anaconda3\\lib\\site-packages (from matplotlib!=3.6.1,>=3.1->seaborn) (3.0.9)\n",
      "Requirement already satisfied: python-dateutil>=2.7 in c:\\users\\usuario\\anaconda3\\lib\\site-packages (from matplotlib!=3.6.1,>=3.1->seaborn) (2.8.2)\n",
      "Requirement already satisfied: contourpy>=1.0.1 in c:\\users\\usuario\\anaconda3\\lib\\site-packages (from matplotlib!=3.6.1,>=3.1->seaborn) (1.0.5)\n",
      "Requirement already satisfied: packaging>=20.0 in c:\\users\\usuario\\anaconda3\\lib\\site-packages (from matplotlib!=3.6.1,>=3.1->seaborn) (22.0)\n",
      "Requirement already satisfied: pillow>=6.2.0 in c:\\users\\usuario\\anaconda3\\lib\\site-packages (from matplotlib!=3.6.1,>=3.1->seaborn) (9.4.0)\n",
      "Requirement already satisfied: fonttools>=4.22.0 in c:\\users\\usuario\\anaconda3\\lib\\site-packages (from matplotlib!=3.6.1,>=3.1->seaborn) (4.25.0)\n",
      "Requirement already satisfied: cycler>=0.10 in c:\\users\\usuario\\anaconda3\\lib\\site-packages (from matplotlib!=3.6.1,>=3.1->seaborn) (0.11.0)\n",
      "Requirement already satisfied: pytz>=2020.1 in c:\\users\\usuario\\anaconda3\\lib\\site-packages (from pandas>=0.25->seaborn) (2022.7)\n",
      "Requirement already satisfied: six>=1.5 in c:\\users\\usuario\\anaconda3\\lib\\site-packages (from python-dateutil>=2.7->matplotlib!=3.6.1,>=3.1->seaborn) (1.16.0)\n",
      "Note: you may need to restart the kernel to use updated packages.\n"
     ]
    }
   ],
   "source": [
    "pip install seaborn"
   ]
  },
  {
   "cell_type": "code",
   "execution_count": 68,
   "metadata": {},
   "outputs": [],
   "source": [
    "import matplotlib.pyplot as plt\n",
    "import seaborn as sns"
   ]
  },
  {
   "cell_type": "code",
   "execution_count": 69,
   "metadata": {},
   "outputs": [
    {
     "data": {
      "text/plain": [
       "array(['GNV', 'DIESEL S10', 'ETANOL', 'GASOLINA', 'DIESEL',\n",
       "       'GASOLINA ADITIVADA'], dtype=object)"
      ]
     },
     "execution_count": 69,
     "metadata": {},
     "output_type": "execute_result"
    }
   ],
   "source": [
    "df_anp['produto'].unique()"
   ]
  },
  {
   "cell_type": "code",
   "execution_count": 70,
   "metadata": {},
   "outputs": [
    {
     "data": {
      "image/png": "[encoded data removed]",
      "text/plain": [
       "<Figure size 640x480 with 1 Axes>"
      ]
     },
     "metadata": {},
     "output_type": "display_data"
    }
   ],
   "source": [
    "ax=sns.lineplot(data = df_anp, x=\"data_coleta\", y=\"valor_venda\", hue=\"produto\")\n",
    "sns.move_legend(ax, \"upper left\", bbox_to_anchor=(1, 1))"
   ]
  },
  {
   "cell_type": "code",
   "execution_count": 71,
   "metadata": {},
   "outputs": [],
   "source": [
    "#separação do dataset\n",
    "gasolina_aditivada = df_anp.loc[df['produto']=='GASOLINA']\n",
    "gasolina = df_anp.loc[df['produto']=='GASOLINA']\n",
    "diesel = df_anp.loc[df['produto']=='DIESEL']\n",
    "diesel_s10 = df_anp.loc[df['produto']=='DIESEL S10']\n",
    "etanol = df_anp.loc[df['produto']=='ETANOL']\n",
    "gnv = df_anp.loc[df['produto']=='GNV']"
   ]
  },
  {
   "cell_type": "code",
   "execution_count": 73,
   "metadata": {},
   "outputs": [],
   "source": [
    "def plotar_boxplot_2V(titulo, labelx, labely, x, y, dataset):\n",
    "    sns.set_palette('Accent')\n",
    "    sns.set_style('darkgrid')\n",
    "    ax=sns.boxplot(x=x, y=y, data=dataset)\n",
    "    ax.figure.set_size_inches(12,6)\n",
    "    ax.set_xlabel(titulo, loc= 'left', fontsize=18)\n",
    "    ax.set_xlabel(labelx, fontsize=14)\n",
    "    ax.set_ylabel(labely, fontsize=14)"
   ]
  },
  {
   "cell_type": "code",
   "execution_count": 74,
   "metadata": {},
   "outputs": [],
   "source": [
    "def plotar_boxplot_geral(y, dataset):\n",
    "    ax=sns.boxplot(y=y, data=dataset)\n",
    "    ax.figure.set_size_inches(4,4)"
   ]
  },
  {
   "cell_type": "code",
   "execution_count": 75,
   "metadata": {},
   "outputs": [
    {
     "name": "stdout",
     "output_type": "stream",
     "text": [
      "GASOLINA ADITIVADA\n"
     ]
    },
    {
     "data": {
      "text/plain": [
       "count    125280.00\n",
       "mean          5.17\n",
       "std           0.93\n",
       "min           3.10\n",
       "25%           4.40\n",
       "50%           4.82\n",
       "75%           5.97\n",
       "max           8.52\n",
       "Name: valor_venda, dtype: float64"
      ]
     },
     "execution_count": 75,
     "metadata": {},
     "output_type": "execute_result"
    }
   ],
   "source": [
    "#Gasolina aditivada - estatística básica\n",
    "\n",
    "print('GASOLINA ADITIVADA')\n",
    "gasolina_aditivada.valor_venda.describe(). round(2)\n"
   ]
  },
  {
   "cell_type": "code",
   "execution_count": 76,
   "metadata": {},
   "outputs": [
    {
     "data": {
      "image/png": "[encoded data removed]",
      "text/plain": [
       "<Figure size 400x400 with 1 Axes>"
      ]
     },
     "metadata": {},
     "output_type": "display_data"
    }
   ],
   "source": [
    "plotar_boxplot_geral('valor_venda', gasolina_aditivada)"
   ]
  },
  {
   "cell_type": "code",
   "execution_count": 77,
   "metadata": {},
   "outputs": [
    {
     "data": {
      "image/png": "[encoded data removed]",
      "text/plain": [
       "<Figure size 1200x600 with 1 Axes>"
      ]
     },
     "metadata": {},
     "output_type": "display_data"
    }
   ],
   "source": [
    "plotar_boxplot_2V('Valor de Venda (R$) da Gasolina Aditivada por Estado',\n",
    "                  'Estado',\n",
    "                  'Valor de Venda (R$)',\n",
    "                  'estado',\n",
    "                  'valor_venda',\n",
    "                  gasolina_aditivada)"
   ]
  },
  {
   "cell_type": "code",
   "execution_count": 78,
   "metadata": {},
   "outputs": [
    {
     "name": "stdout",
     "output_type": "stream",
     "text": [
      "GASOLINA COMUM\n"
     ]
    },
    {
     "data": {
      "text/plain": [
       "count    125280.00\n",
       "mean          5.17\n",
       "std           0.93\n",
       "min           3.10\n",
       "25%           4.40\n",
       "50%           4.82\n",
       "75%           5.97\n",
       "max           8.52\n",
       "Name: valor_venda, dtype: float64"
      ]
     },
     "execution_count": 78,
     "metadata": {},
     "output_type": "execute_result"
    }
   ],
   "source": [
    "print('GASOLINA COMUM')\n",
    "gasolina.valor_venda.describe(). round(2)"
   ]
  },
  {
   "cell_type": "code",
   "execution_count": 79,
   "metadata": {},
   "outputs": [
    {
     "data": {
      "image/png": "[encoded data removed]",
      "text/plain": [
       "<Figure size 400x400 with 1 Axes>"
      ]
     },
     "metadata": {},
     "output_type": "display_data"
    }
   ],
   "source": [
    "plotar_boxplot_geral('valor_venda', gasolina)"
   ]
  },
  {
   "cell_type": "code",
   "execution_count": 80,
   "metadata": {},
   "outputs": [
    {
     "data": {
      "image/png": "[encoded data removed]",
      "text/plain": [
       "<Figure size 1200x600 with 1 Axes>"
      ]
     },
     "metadata": {},
     "output_type": "display_data"
    }
   ],
   "source": [
    "plotar_boxplot_2V('Valor de Venda (R$) da Gasolina Comum por Estado',\n",
    "                  'Estado',\n",
    "                  'Valor de Venda (R$)',\n",
    "                  'estado',\n",
    "                  'valor_venda',\n",
    "                  gasolina)"
   ]
  },
  {
   "cell_type": "code",
   "execution_count": 82,
   "metadata": {},
   "outputs": [
    {
     "name": "stdout",
     "output_type": "stream",
     "text": [
      "Diesel\n"
     ]
    },
    {
     "data": {
      "text/plain": [
       "count    61689.00\n",
       "mean         4.40\n",
       "std          1.36\n",
       "min          2.80\n",
       "25%          3.45\n",
       "50%          3.79\n",
       "75%          4.98\n",
       "max          8.99\n",
       "Name: valor_venda, dtype: float64"
      ]
     },
     "execution_count": 82,
     "metadata": {},
     "output_type": "execute_result"
    }
   ],
   "source": [
    "print('Diesel')\n",
    "diesel.valor_venda.describe(). round(2)"
   ]
  },
  {
   "cell_type": "code",
   "execution_count": 83,
   "metadata": {},
   "outputs": [
    {
     "data": {
      "image/png": "[encoded data removed]",
      "text/plain": [
       "<Figure size 1200x600 with 1 Axes>"
      ]
     },
     "metadata": {},
     "output_type": "display_data"
    }
   ],
   "source": [
    "plotar_boxplot_2V('Valor de Venda (R$) da Diesel por Estado',\n",
    "                  'Estado',\n",
    "                  'Valor de Venda (R$)',\n",
    "                  'estado',\n",
    "                  'valor_venda',\n",
    "                  diesel)"
   ]
  },
  {
   "cell_type": "code",
   "execution_count": 84,
   "metadata": {},
   "outputs": [
    {
     "name": "stdout",
     "output_type": "stream",
     "text": [
      "Diesel S10\n"
     ]
    },
    {
     "data": {
      "text/plain": [
       "count    101447.00\n",
       "mean          4.58\n",
       "std           1.39\n",
       "min           2.93\n",
       "25%           3.59\n",
       "50%           3.92\n",
       "75%           5.29\n",
       "max           9.00\n",
       "Name: valor_venda, dtype: float64"
      ]
     },
     "execution_count": 84,
     "metadata": {},
     "output_type": "execute_result"
    }
   ],
   "source": [
    "print('Diesel S10')\n",
    "diesel_s10.valor_venda.describe(). round(2)"
   ]
  },
  {
   "cell_type": "code",
   "execution_count": 85,
   "metadata": {},
   "outputs": [
    {
     "data": {
      "image/png": "[encoded data removed]",
      "text/plain": [
       "<Figure size 1200x600 with 1 Axes>"
      ]
     },
     "metadata": {},
     "output_type": "display_data"
    }
   ],
   "source": [
    "plotar_boxplot_2V('Valor de Venda (R$) da Diesel S10 por Estado',\n",
    "                  'Estado',\n",
    "                  'Valor de Venda (R$)',\n",
    "                  'estado',\n",
    "                  'valor_venda',\n",
    "                  diesel_s10)"
   ]
  },
  {
   "cell_type": "code",
   "execution_count": 86,
   "metadata": {},
   "outputs": [
    {
     "name": "stdout",
     "output_type": "stream",
     "text": [
      "Etanol\n"
     ]
    },
    {
     "data": {
      "text/plain": [
       "count    111041.00\n",
       "mean          3.91\n",
       "std           0.97\n",
       "min           1.99\n",
       "25%           3.10\n",
       "50%           3.70\n",
       "75%           4.60\n",
       "max           7.89\n",
       "Name: valor_venda, dtype: float64"
      ]
     },
     "execution_count": 86,
     "metadata": {},
     "output_type": "execute_result"
    }
   ],
   "source": [
    "print('Etanol')\n",
    "etanol.valor_venda.describe(). round(2)"
   ]
  },
  {
   "cell_type": "code",
   "execution_count": 87,
   "metadata": {},
   "outputs": [
    {
     "data": {
      "image/png": "[encoded data removed]",
      "text/plain": [
       "<Figure size 1200x600 with 1 Axes>"
      ]
     },
     "metadata": {},
     "output_type": "display_data"
    }
   ],
   "source": [
    "plotar_boxplot_2V('Valor de Venda (R$) da Etanol por Estado',\n",
    "                  'Estado',\n",
    "                  'Valor de Venda (R$)',\n",
    "                  'estado',\n",
    "                  'valor_venda',\n",
    "                  etanol)"
   ]
  },
  {
   "cell_type": "code",
   "execution_count": 88,
   "metadata": {},
   "outputs": [
    {
     "name": "stdout",
     "output_type": "stream",
     "text": [
      "GNV\n"
     ]
    },
    {
     "data": {
      "text/plain": [
       "count    8413.00\n",
       "mean        3.65\n",
       "std         1.01\n",
       "min         1.76\n",
       "25%         2.90\n",
       "50%         3.40\n",
       "75%         4.38\n",
       "max         6.99\n",
       "Name: valor_venda, dtype: float64"
      ]
     },
     "execution_count": 88,
     "metadata": {},
     "output_type": "execute_result"
    }
   ],
   "source": [
    "print('GNV')\n",
    "gnv.valor_venda.describe(). round(2)"
   ]
  },
  {
   "cell_type": "code",
   "execution_count": 89,
   "metadata": {},
   "outputs": [
    {
     "data": {
      "image/png": "[encoded data removed]",
      "text/plain": [
       "<Figure size 1200x600 with 1 Axes>"
      ]
     },
     "metadata": {},
     "output_type": "display_data"
    }
   ],
   "source": [
    "plotar_boxplot_2V('Valor de Venda (R$) da GNV por Estado',\n",
    "                  'Estado',\n",
    "                  'Valor de Venda (R$)',\n",
    "                  'estado',\n",
    "                  'valor_venda',\n",
    "                  gnv)"
   ]
  },
  {
   "cell_type": "code",
   "execution_count": 90,
   "metadata": {},
   "outputs": [
    {
     "data": {
      "text/plain": [
       "array(['PETROBRAS DISTRIBUIDORA S.A.', 'BRANCA', 'RODOIL', 'EQUADOR',\n",
       "       'SABBÁ', 'IPIRANGA', 'RAIZEN', \"ATEM' S\", 'PETROSERRA', 'WATT',\n",
       "       'ALESAT', 'HORA', 'PETROBAHIA', 'SP', 'SETTA DISTRIBUIDORA',\n",
       "       'DISLUB', 'ATLÂNTICA', 'ZEMA', 'RIO BRANCO', 'TDC DISTRIBUIDORA',\n",
       "       'SATELITE', 'CIAPETRO', 'ALE COMBUSTÍVEIS', 'TAURUS', 'IDAZA',\n",
       "       'PODIUM', 'SIMARELLI', 'FEDERAL', 'STANG', 'UNI', 'POTENCIAL',\n",
       "       'CHARRUA', 'MEGAPETRO', 'AMERICANOIL', 'RAIZEN MIME', 'REJAILE',\n",
       "       'MAXSUL', 'DIBRAPE', 'RUFF C.J.', 'D`MAIS', 'RM PETROLEO',\n",
       "       'ROYAL FIC', 'TORRAO', 'RZD DISTRIBUIDORA', 'TEMAPE', 'ACOL',\n",
       "       'MONTEPETRO', 'FAN', 'TOBRAS', 'PETROX DISTRIBUIDORA', 'PETROX',\n",
       "       'SOLL', 'PETROLUZ', 'LIQUIGÁS', 'POLIPETRO', 'SUL COMBUSTÍVEIS',\n",
       "       'PELIKANO', 'SMALL', 'DINAMO', 'MASUT DISTRIBUIDORA', 'ESTRADA',\n",
       "       'LARCO', 'WALENDOWSKY', 'TOTAL BRASIL', 'GRAN PETRO',\n",
       "       'VIBRA ENERGIA', 'FEDERAL ENERGIA', 'TOTALENERGIES', 'PETRONAC'],\n",
       "      dtype=object)"
      ]
     },
     "execution_count": 90,
     "metadata": {},
     "output_type": "execute_result"
    }
   ],
   "source": [
    "df_anp['bandeira'].unique()"
   ]
  },
  {
   "cell_type": "code",
   "execution_count": 91,
   "metadata": {},
   "outputs": [
    {
     "data": {
      "text/plain": [
       "69"
      ]
     },
     "execution_count": 91,
     "metadata": {},
     "output_type": "execute_result"
    }
   ],
   "source": [
    "df_anp['bandeira'].nunique()"
   ]
  },
  {
   "cell_type": "code",
   "execution_count": null,
   "metadata": {},
   "outputs": [],
   "source": []
  }
 ],
 "metadata": {
  "kernelspec": {
   "display_name": "Python 3.9.12 64-bit",
   "language": "python",
   "name": "python3"
  },
  "language_info": {
   "codemirror_mode": {
    "name": "ipython",
    "version": 3
   },
   "file_extension": ".py",
   "mimetype": "text/x-python",
   "name": "python",
   "nbconvert_exporter": "python",
   "pygments_lexer": "ipython3",
   "version": "3.10.9"
  },
  "orig_nbformat": 4,
  "vscode": {
   "interpreter": {
    "hash": "8682c474af1cf416eccb63a411a7c81c15a3947ae2d19cb89592b512035f24d4"
   }
  }
 },
 "nbformat": 4,
 "nbformat_minor": 2
}
